{
  "cells": [
    {
      "cell_type": "markdown",
      "metadata": {
        "id": "baO0onCVcCLo"
      },
      "source": [
        "## Modelo de Machine Learning\n"
      ]
    },
    {
      "cell_type": "markdown",
      "metadata": {
        "id": "g2QQLhHCgc19"
      },
      "source": [
        "Se emplearán los siguientes métodos y técnicas de Procesamiento de Lenguaje Natural:\n",
        "\n",
        "- **TF-Idata_ML (Term Frequency-Inverse Document Frequency)**: Esta técnica transforma el texto en una representación numérica (matriz de características), asignando a cada término un valor que indica su relevancia en un documento, en relación con el conjunto de textos (corpus). Los valores obtenidos reflejan únicamente la frecuencia y relevancia de las palabras en el contexto textual.\n",
        "\n",
        "- **Similitud del Coseno**: Esta técnica evalúa la similitud entre dos vectores generados por TF-Idata_ML, midiendo el grado de semejanza en el espacio vectorial. Se basa únicamente en las palabras y sus ponderaciones, sin verse influida por valores numéricos externos."
      ]
    },
    {
      "cell_type": "markdown",
      "metadata": {
        "id": "oXX7BPLECoFR"
      },
      "source": [
        "## Cargue de datos luego de aplicado el EDA"
      ]
    },
    {
      "cell_type": "code",
      "execution_count": 130,
      "metadata": {
        "colab": {
          "base_uri": "https://localhost:8080/"
        },
        "id": "n_NrVh6RY-2-",
        "outputId": "aaf61e29-ec00-4ef7-d576-41c6250a0de1"
      },
      "outputs": [
        {
          "name": "stderr",
          "output_type": "stream",
          "text": [
            "[nltk_data] Downloading package punkt to\n",
            "[nltk_data]     C:\\Users\\Lenovo\\AppData\\Roaming\\nltk_data...\n",
            "[nltk_data]   Package punkt is already up-to-date!\n",
            "[nltk_data] Downloading package stopwords to\n",
            "[nltk_data]     C:\\Users\\Lenovo\\AppData\\Roaming\\nltk_data...\n",
            "[nltk_data]   Package stopwords is already up-to-date!\n"
          ]
        }
      ],
      "source": [
        "#Importar librerías\n",
        "import numpy as np\n",
        "import pandas as pd\n",
        "import seaborn as sns\n",
        "import matplotlib.pyplot as plt\n",
        "import warnings\n",
        "from wordcloud import WordCloud, STOPWORDS\n",
        "from sklearn.feature_extraction.text import TfidfVectorizer\n",
        "from sklearn.metrics.pairwise import cosine_similarity\n",
        "import nltk\n",
        "nltk.download('punkt')\n",
        "nltk.download('stopwords')\n",
        "from nltk.corpus import stopwords\n",
        "from nltk.tokenize import word_tokenize"
      ]
    },
    {
      "cell_type": "code",
      "execution_count": 131,
      "metadata": {
        "id": "0jTsbuYBDGAd"
      },
      "outputs": [],
      "source": [
        "data_ML = pd.read_parquet('../datasets/complete_data.parquet')"
      ]
    },
    {
      "cell_type": "code",
      "execution_count": 132,
      "metadata": {
        "id": "mEXd9a91Ojxc"
      },
      "outputs": [
        {
          "data": {
            "text/plain": [
              "budget                    int64\n",
              "id                        int64\n",
              "original_language        object\n",
              "overview                 object\n",
              "popularity              float64\n",
              "release_date             object\n",
              "revenue                 float64\n",
              "runtime                 float64\n",
              "status                   object\n",
              "tagline                  object\n",
              "title                    object\n",
              "vote_average            float64\n",
              "vote_count              float64\n",
              "collection_name          object\n",
              "genres                   object\n",
              "production_companies     object\n",
              "production_countries     object\n",
              "spoken_languages         object\n",
              "return                  float64\n",
              "release_year              int64\n",
              "directors                object\n",
              "actors                   object\n",
              "dtype: object"
            ]
          },
          "execution_count": 132,
          "metadata": {},
          "output_type": "execute_result"
        }
      ],
      "source": [
        "data_ML.dtypes"
      ]
    },
    {
      "cell_type": "code",
      "execution_count": 133,
      "metadata": {
        "id": "LEXocqkkTCfN"
      },
      "outputs": [
        {
          "data": {
            "text/plain": [
              "0                          Toy Story\n",
              "1                            Jumanji\n",
              "2                   Grumpier Old Men\n",
              "3                  Waiting to Exhale\n",
              "4        Father of the Bride Part II\n",
              "5                               Heat\n",
              "6                            Sabrina\n",
              "7                       Tom and Huck\n",
              "8                       Sudden Death\n",
              "9                          GoldenEye\n",
              "10            The American President\n",
              "11       Dracula: Dead and Loving It\n",
              "12                             Balto\n",
              "13                             Nixon\n",
              "14                  Cutthroat Island\n",
              "15                            Casino\n",
              "16             Sense and Sensibility\n",
              "17                        Four Rooms\n",
              "18    Ace Ventura: When Nature Calls\n",
              "19                       Money Train\n",
              "20                        Get Shorty\n",
              "21                           Copycat\n",
              "22                         Assassins\n",
              "23                            Powder\n",
              "24                 Leaving Las Vegas\n",
              "25                           Othello\n",
              "26                      Now and Then\n",
              "27                        Persuasion\n",
              "28         The City of Lost Children\n",
              "29                    Shanghai Triad\n",
              "Name: title, dtype: object"
            ]
          },
          "execution_count": 133,
          "metadata": {},
          "output_type": "execute_result"
        }
      ],
      "source": [
        "data_ML['title'][:30]"
      ]
    },
    {
      "cell_type": "code",
      "execution_count": 134,
      "metadata": {
        "colab": {
          "base_uri": "https://localhost:8080/"
        },
        "id": "Il2JFrGvEdSB",
        "outputId": "1024ad34-43de-4be6-8c13-e68cad219f1e"
      },
      "outputs": [
        {
          "data": {
            "text/plain": [
              "Index(['budget', 'id', 'original_language', 'overview', 'popularity',\n",
              "       'release_date', 'revenue', 'runtime', 'status', 'tagline', 'title',\n",
              "       'vote_average', 'vote_count', 'collection_name', 'genres',\n",
              "       'production_companies', 'production_countries', 'spoken_languages',\n",
              "       'return', 'release_year', 'directors', 'actors'],\n",
              "      dtype='object')"
            ]
          },
          "execution_count": 134,
          "metadata": {},
          "output_type": "execute_result"
        }
      ],
      "source": [
        "data_ML.columns"
      ]
    },
    {
      "cell_type": "code",
      "execution_count": 135,
      "metadata": {
        "colab": {
          "base_uri": "https://localhost:8080/"
        },
        "id": "gSCfBOcCVhT_",
        "outputId": "e50d0e1b-097d-4474-fd45-8275761a4ed9"
      },
      "outputs": [
        {
          "data": {
            "text/plain": [
              "budget                      0\n",
              "id                          0\n",
              "original_language           9\n",
              "overview                  903\n",
              "popularity                  0\n",
              "release_date                0\n",
              "revenue                     0\n",
              "runtime                   229\n",
              "status                     76\n",
              "tagline                 24240\n",
              "title                       0\n",
              "vote_average                0\n",
              "vote_count                  0\n",
              "collection_name         39998\n",
              "genres                   2289\n",
              "production_companies    11478\n",
              "production_countries     6027\n",
              "spoken_languages         3764\n",
              "return                      0\n",
              "release_year                0\n",
              "directors                   0\n",
              "actors                      0\n",
              "dtype: int64"
            ]
          },
          "execution_count": 135,
          "metadata": {},
          "output_type": "execute_result"
        }
      ],
      "source": [
        "#revisar valores nulos\n",
        "data_ML.isnull().sum()"
      ]
    },
    {
      "cell_type": "code",
      "execution_count": 136,
      "metadata": {
        "colab": {
          "base_uri": "https://localhost:8080/"
        },
        "id": "ZIfCQeE0watL",
        "outputId": "685681a2-6361-4a1c-ac90-5b2e2114deca"
      },
      "outputs": [
        {
          "data": {
            "text/plain": [
              "(44425, 22)"
            ]
          },
          "execution_count": 136,
          "metadata": {},
          "output_type": "execute_result"
        }
      ],
      "source": [
        "data_ML.shape"
      ]
    },
    {
      "cell_type": "markdown",
      "metadata": {
        "id": "zDeQmQ_ADUz0"
      },
      "source": [
        "**Se crearán dos columnas como resultado del análisis efectuado en el EDA**"
      ]
    },
    {
      "cell_type": "code",
      "execution_count": 137,
      "metadata": {
        "colab": {
          "base_uri": "https://localhost:8080/",
          "height": 178
        },
        "id": "gEuUa3g5Nazn",
        "outputId": "54951c43-5c66-422c-abf1-0bb245ccbb18"
      },
      "outputs": [
        {
          "data": {
            "text/plain": [
              "0         Toy Story Collection\n",
              "1                         None\n",
              "2    Grumpy Old Men Collection\n",
              "Name: collection_name, dtype: object"
            ]
          },
          "execution_count": 137,
          "metadata": {},
          "output_type": "execute_result"
        }
      ],
      "source": [
        "data_ML['collection_name'][:3]"
      ]
    },
    {
      "cell_type": "code",
      "execution_count": 138,
      "metadata": {
        "id": "90lBlZWnDNmB"
      },
      "outputs": [],
      "source": [
        "# Extraer el primer actor de la lista en la columna 'actors'\n",
        "data_ML['first_actor'] = data_ML['actors'].apply(lambda x: x.split(',')[0] if pd.notna(x) else '')\n",
        "\n",
        "# Extraer el primer director de la lista en la columna 'director'\n",
        "data_ML['first_director'] = data_ML['directors'].apply(lambda x: x.split(',')[0] if pd.notna(x) else '')"
      ]
    },
    {
      "cell_type": "code",
      "execution_count": 139,
      "metadata": {
        "colab": {
          "base_uri": "https://localhost:8080/",
          "height": 794
        },
        "id": "n3fMu6P7EGYZ",
        "outputId": "9c7d9cc4-d763-4426-91cc-6aa81721dfb1"
      },
      "outputs": [
        {
          "data": {
            "text/html": [
              "<div>\n",
              "<style scoped>\n",
              "    .dataframe tbody tr th:only-of-type {\n",
              "        vertical-align: middle;\n",
              "    }\n",
              "\n",
              "    .dataframe tbody tr th {\n",
              "        vertical-align: top;\n",
              "    }\n",
              "\n",
              "    .dataframe thead th {\n",
              "        text-align: right;\n",
              "    }\n",
              "</style>\n",
              "<table border=\"1\" class=\"dataframe\">\n",
              "  <thead>\n",
              "    <tr style=\"text-align: right;\">\n",
              "      <th></th>\n",
              "      <th>budget</th>\n",
              "      <th>id</th>\n",
              "      <th>original_language</th>\n",
              "      <th>overview</th>\n",
              "      <th>popularity</th>\n",
              "      <th>release_date</th>\n",
              "      <th>revenue</th>\n",
              "      <th>runtime</th>\n",
              "      <th>status</th>\n",
              "      <th>tagline</th>\n",
              "      <th>...</th>\n",
              "      <th>genres</th>\n",
              "      <th>production_companies</th>\n",
              "      <th>production_countries</th>\n",
              "      <th>spoken_languages</th>\n",
              "      <th>return</th>\n",
              "      <th>release_year</th>\n",
              "      <th>directors</th>\n",
              "      <th>actors</th>\n",
              "      <th>first_actor</th>\n",
              "      <th>first_director</th>\n",
              "    </tr>\n",
              "  </thead>\n",
              "  <tbody>\n",
              "    <tr>\n",
              "      <th>0</th>\n",
              "      <td>30000000</td>\n",
              "      <td>862</td>\n",
              "      <td>en</td>\n",
              "      <td>Led by Woody, Andy's toys live happily in his ...</td>\n",
              "      <td>21.946943</td>\n",
              "      <td>1995-10-30</td>\n",
              "      <td>373554033.0</td>\n",
              "      <td>81.0</td>\n",
              "      <td>Released</td>\n",
              "      <td>None</td>\n",
              "      <td>...</td>\n",
              "      <td>Animation,Comedy,Family</td>\n",
              "      <td>Pixar Animation Studios</td>\n",
              "      <td>United States of America</td>\n",
              "      <td>English</td>\n",
              "      <td>12.451801</td>\n",
              "      <td>1995</td>\n",
              "      <td>John Lasseter</td>\n",
              "      <td>Tom Hanks, Tim Allen, Don Rickles, Jim Varney,...</td>\n",
              "      <td>Tom Hanks</td>\n",
              "      <td>John Lasseter</td>\n",
              "    </tr>\n",
              "    <tr>\n",
              "      <th>1</th>\n",
              "      <td>65000000</td>\n",
              "      <td>8844</td>\n",
              "      <td>en</td>\n",
              "      <td>When siblings Judy and Peter discover an encha...</td>\n",
              "      <td>17.015539</td>\n",
              "      <td>1995-12-15</td>\n",
              "      <td>262797249.0</td>\n",
              "      <td>104.0</td>\n",
              "      <td>Released</td>\n",
              "      <td>Roll the dice and unleash the excitement!</td>\n",
              "      <td>...</td>\n",
              "      <td>Adventure,Fantasy,Family</td>\n",
              "      <td>TriStar Pictures,Teitler Film,Interscope Commu...</td>\n",
              "      <td>United States of America</td>\n",
              "      <td>English,Français</td>\n",
              "      <td>4.043035</td>\n",
              "      <td>1995</td>\n",
              "      <td>Joe Johnston</td>\n",
              "      <td>Robin Williams, Jonathan Hyde, Kirsten Dunst, ...</td>\n",
              "      <td>Robin Williams</td>\n",
              "      <td>Joe Johnston</td>\n",
              "    </tr>\n",
              "    <tr>\n",
              "      <th>2</th>\n",
              "      <td>0</td>\n",
              "      <td>15602</td>\n",
              "      <td>en</td>\n",
              "      <td>A family wedding reignites the ancient feud be...</td>\n",
              "      <td>11.712900</td>\n",
              "      <td>1995-12-22</td>\n",
              "      <td>0.0</td>\n",
              "      <td>101.0</td>\n",
              "      <td>Released</td>\n",
              "      <td>Still Yelling. Still Fighting. Still Ready for...</td>\n",
              "      <td>...</td>\n",
              "      <td>Romance,Comedy</td>\n",
              "      <td>Warner Bros.,Lancaster Gate</td>\n",
              "      <td>United States of America</td>\n",
              "      <td>English</td>\n",
              "      <td>0.000000</td>\n",
              "      <td>1995</td>\n",
              "      <td>Howard Deutch</td>\n",
              "      <td>Walter Matthau, Jack Lemmon, Ann-Margret, Soph...</td>\n",
              "      <td>Walter Matthau</td>\n",
              "      <td>Howard Deutch</td>\n",
              "    </tr>\n",
              "    <tr>\n",
              "      <th>3</th>\n",
              "      <td>16000000</td>\n",
              "      <td>31357</td>\n",
              "      <td>en</td>\n",
              "      <td>Cheated on, mistreated and stepped on, the wom...</td>\n",
              "      <td>3.859495</td>\n",
              "      <td>1995-12-22</td>\n",
              "      <td>81452156.0</td>\n",
              "      <td>127.0</td>\n",
              "      <td>Released</td>\n",
              "      <td>Friends are the people who let you be yourself...</td>\n",
              "      <td>...</td>\n",
              "      <td>Comedy,Drama,Romance</td>\n",
              "      <td>Twentieth Century Fox Film Corporation</td>\n",
              "      <td>United States of America</td>\n",
              "      <td>English</td>\n",
              "      <td>5.090760</td>\n",
              "      <td>1995</td>\n",
              "      <td>Forest Whitaker</td>\n",
              "      <td>Whitney Houston, Angela Bassett, Loretta Devin...</td>\n",
              "      <td>Whitney Houston</td>\n",
              "      <td>Forest Whitaker</td>\n",
              "    </tr>\n",
              "    <tr>\n",
              "      <th>4</th>\n",
              "      <td>0</td>\n",
              "      <td>11862</td>\n",
              "      <td>en</td>\n",
              "      <td>Just when George Banks has recovered from his ...</td>\n",
              "      <td>8.387519</td>\n",
              "      <td>1995-02-10</td>\n",
              "      <td>76578911.0</td>\n",
              "      <td>106.0</td>\n",
              "      <td>Released</td>\n",
              "      <td>Just When His World Is Back To Normal... He's ...</td>\n",
              "      <td>...</td>\n",
              "      <td>Comedy</td>\n",
              "      <td>Sandollar Productions,Touchstone Pictures</td>\n",
              "      <td>United States of America</td>\n",
              "      <td>English</td>\n",
              "      <td>0.000000</td>\n",
              "      <td>1995</td>\n",
              "      <td>Charles Shyer</td>\n",
              "      <td>Steve Martin, Diane Keaton, Martin Short, Kimb...</td>\n",
              "      <td>Steve Martin</td>\n",
              "      <td>Charles Shyer</td>\n",
              "    </tr>\n",
              "  </tbody>\n",
              "</table>\n",
              "<p>5 rows × 24 columns</p>\n",
              "</div>"
            ],
            "text/plain": [
              "     budget     id original_language  \\\n",
              "0  30000000    862                en   \n",
              "1  65000000   8844                en   \n",
              "2         0  15602                en   \n",
              "3  16000000  31357                en   \n",
              "4         0  11862                en   \n",
              "\n",
              "                                            overview  popularity release_date  \\\n",
              "0  Led by Woody, Andy's toys live happily in his ...   21.946943   1995-10-30   \n",
              "1  When siblings Judy and Peter discover an encha...   17.015539   1995-12-15   \n",
              "2  A family wedding reignites the ancient feud be...   11.712900   1995-12-22   \n",
              "3  Cheated on, mistreated and stepped on, the wom...    3.859495   1995-12-22   \n",
              "4  Just when George Banks has recovered from his ...    8.387519   1995-02-10   \n",
              "\n",
              "       revenue  runtime    status  \\\n",
              "0  373554033.0     81.0  Released   \n",
              "1  262797249.0    104.0  Released   \n",
              "2          0.0    101.0  Released   \n",
              "3   81452156.0    127.0  Released   \n",
              "4   76578911.0    106.0  Released   \n",
              "\n",
              "                                             tagline  ...  \\\n",
              "0                                               None  ...   \n",
              "1          Roll the dice and unleash the excitement!  ...   \n",
              "2  Still Yelling. Still Fighting. Still Ready for...  ...   \n",
              "3  Friends are the people who let you be yourself...  ...   \n",
              "4  Just When His World Is Back To Normal... He's ...  ...   \n",
              "\n",
              "                     genres  \\\n",
              "0   Animation,Comedy,Family   \n",
              "1  Adventure,Fantasy,Family   \n",
              "2            Romance,Comedy   \n",
              "3      Comedy,Drama,Romance   \n",
              "4                    Comedy   \n",
              "\n",
              "                                production_companies  \\\n",
              "0                            Pixar Animation Studios   \n",
              "1  TriStar Pictures,Teitler Film,Interscope Commu...   \n",
              "2                        Warner Bros.,Lancaster Gate   \n",
              "3             Twentieth Century Fox Film Corporation   \n",
              "4          Sandollar Productions,Touchstone Pictures   \n",
              "\n",
              "       production_countries  spoken_languages     return release_year  \\\n",
              "0  United States of America           English  12.451801         1995   \n",
              "1  United States of America  English,Français   4.043035         1995   \n",
              "2  United States of America           English   0.000000         1995   \n",
              "3  United States of America           English   5.090760         1995   \n",
              "4  United States of America           English   0.000000         1995   \n",
              "\n",
              "         directors                                             actors  \\\n",
              "0    John Lasseter  Tom Hanks, Tim Allen, Don Rickles, Jim Varney,...   \n",
              "1     Joe Johnston  Robin Williams, Jonathan Hyde, Kirsten Dunst, ...   \n",
              "2    Howard Deutch  Walter Matthau, Jack Lemmon, Ann-Margret, Soph...   \n",
              "3  Forest Whitaker  Whitney Houston, Angela Bassett, Loretta Devin...   \n",
              "4    Charles Shyer  Steve Martin, Diane Keaton, Martin Short, Kimb...   \n",
              "\n",
              "       first_actor   first_director  \n",
              "0        Tom Hanks    John Lasseter  \n",
              "1   Robin Williams     Joe Johnston  \n",
              "2   Walter Matthau    Howard Deutch  \n",
              "3  Whitney Houston  Forest Whitaker  \n",
              "4     Steve Martin    Charles Shyer  \n",
              "\n",
              "[5 rows x 24 columns]"
            ]
          },
          "execution_count": 139,
          "metadata": {},
          "output_type": "execute_result"
        }
      ],
      "source": [
        "data_ML.head()"
      ]
    },
    {
      "cell_type": "code",
      "execution_count": 140,
      "metadata": {
        "colab": {
          "base_uri": "https://localhost:8080/"
        },
        "id": "AtIn7vBvifXq",
        "outputId": "253d5397-3590-4809-d753-4eb02028ee30"
      },
      "outputs": [
        {
          "data": {
            "text/plain": [
              "Index(['budget', 'id', 'original_language', 'overview', 'popularity',\n",
              "       'release_date', 'revenue', 'runtime', 'status', 'tagline', 'title',\n",
              "       'vote_average', 'vote_count', 'collection_name', 'genres',\n",
              "       'production_companies', 'production_countries', 'spoken_languages',\n",
              "       'return', 'release_year', 'directors', 'actors', 'first_actor',\n",
              "       'first_director'],\n",
              "      dtype='object')"
            ]
          },
          "execution_count": 140,
          "metadata": {},
          "output_type": "execute_result"
        }
      ],
      "source": [
        "data_ML.columns"
      ]
    },
    {
      "cell_type": "markdown",
      "metadata": {
        "id": "JGA-cscLizYc"
      },
      "source": [
        "Se utilizará el atributo overview en combinación de otros más para evaluar los distintos modelos"
      ]
    },
    {
      "cell_type": "code",
      "execution_count": 141,
      "metadata": {
        "id": "jGwEWkgPqUiB"
      },
      "outputs": [],
      "source": [
        "data_ML = data_ML.fillna('')  # Replace None with empty strings"
      ]
    },
    {
      "cell_type": "markdown",
      "metadata": {
        "id": "5q-G7RdijJUU"
      },
      "source": [
        "## **Model1**"
      ]
    },
    {
      "cell_type": "code",
      "execution_count": 142,
      "metadata": {
        "id": "mA3HIGUatQHv"
      },
      "outputs": [],
      "source": [
        "#Extrar las columnas relevantes para el modelo\n",
        "model1 = data_ML[['title', 'overview']].copy()"
      ]
    },
    {
      "cell_type": "code",
      "execution_count": 143,
      "metadata": {
        "id": "OTKaEWKUtP4m"
      },
      "outputs": [],
      "source": [
        "# Crear una instancia de Tfidata_MLVectorizer\n",
        "tfidata_ML_1 = TfidfVectorizer(stop_words=\"english\", ngram_range=(1, 2))"
      ]
    },
    {
      "cell_type": "code",
      "execution_count": 144,
      "metadata": {
        "id": "NPAe_rqduJe1"
      },
      "outputs": [],
      "source": [
        "# Aplicar la transformación TF-Idata_ML al contenido\n",
        "tfidata_ML_matriz_1 = tfidata_ML_1.fit_transform(model1['overview'])\n"
      ]
    },
    {
      "cell_type": "code",
      "execution_count": 145,
      "metadata": {
        "id": "8Pi2tNX712YV"
      },
      "outputs": [],
      "source": [
        "# Función para obtener recomendaciones\n",
        "def recomendacion_m1(titulo):\n",
        "    #Crear una serie que asigna un índice a cada título de las películas\n",
        "    indices = pd.Series(model1.index, index=model1['title']).drop_duplicates()\n",
        "    if titulo not in indices:\n",
        "        return 'La película ingresada no se encuentra en la base de datos'\n",
        "    else:\n",
        "        #Obtener el índice de la película que coincide con el título\n",
        "        ind = pd.Series(indices[titulo]) if titulo in indices else None\n",
        "        #Si el título de la película está duplicado, devolver el índice de la primera aparición del título en el DataFrame\n",
        "        if model1.duplicated(['title']).any():\n",
        "            primer_ind = model1[model1['title'] == titulo].index[0]\n",
        "            if not ind.equals(pd.Series(primer_ind)):\n",
        "                ind = pd.Series(primer_ind)\n",
        "        #Calcular la similitud coseno entre la película de entrada y todas las demás películas en la matriz de características\n",
        "        cosine_sim = cosine_similarity(tfidata_ML_matriz_1[ind], tfidata_ML_matriz_1).flatten()\n",
        "        simil = sorted(enumerate(cosine_sim), key=lambda x: x[1], reverse=True)[1:6]\n",
        "        #Verificar que los índices obtenidos son válidos\n",
        "        valid_ind = [i[0] for i in simil if i[0] < len(model1)]\n",
        "        #Obtener los títulos de las películas más similares utilizando el índice de cada película\n",
        "        recomendaciones = model1.iloc[valid_ind]['title'].tolist()\n",
        "        #Devolver la lista de títulos de las películas recomendadas\n",
        "        return recomendaciones"
      ]
    },
    {
      "cell_type": "markdown",
      "metadata": {
        "id": "1O2RxBkhye0u"
      },
      "source": [
        "## **Se realizan distintas pruebas para evaluar el modelo**"
      ]
    },
    {
      "cell_type": "code",
      "execution_count": 146,
      "metadata": {
        "colab": {
          "base_uri": "https://localhost:8080/"
        },
        "id": "a-MvHTIhucwZ",
        "outputId": "d3ff972f-4f8e-4762-bedc-21aed80c3d25"
      },
      "outputs": [
        {
          "data": {
            "text/plain": [
              "['Batman Forever',\n",
              " 'The Dark Knight',\n",
              " 'Batman',\n",
              " 'Batman Returns',\n",
              " 'Batman: Under the Red Hood']"
            ]
          },
          "execution_count": 146,
          "metadata": {},
          "output_type": "execute_result"
        }
      ],
      "source": [
        "\n",
        "recomendacion_m1('The Dark Knight Rises')"
      ]
    },
    {
      "cell_type": "code",
      "execution_count": 147,
      "metadata": {
        "colab": {
          "base_uri": "https://localhost:8080/"
        },
        "id": "0dNZ7sPcTuj7",
        "outputId": "5377f0ca-69d5-4693-ec7a-8e439559d0d7"
      },
      "outputs": [
        {
          "data": {
            "text/plain": [
              "['Word Wars', 'The Bar', 'Table No. 21', 'Quintet', 'The Dark Angel']"
            ]
          },
          "execution_count": 147,
          "metadata": {},
          "output_type": "execute_result"
        }
      ],
      "source": [
        "\n",
        "recomendacion_m1('Jumanji')"
      ]
    },
    {
      "cell_type": "code",
      "execution_count": 148,
      "metadata": {
        "colab": {
          "base_uri": "https://localhost:8080/"
        },
        "id": "ej5dkgcOucpR",
        "outputId": "15390e09-0eb1-4d84-a745-26d94e2f5c07"
      },
      "outputs": [
        {
          "data": {
            "text/plain": [
              "['Grantham and Rose',\n",
              " 'The Legend of 1900',\n",
              " 'Raise the Titanic',\n",
              " 'Dustbin Baby',\n",
              " 'The Experience']"
            ]
          },
          "execution_count": 148,
          "metadata": {},
          "output_type": "execute_result"
        }
      ],
      "source": [
        "\n",
        "recomendacion_m1('Titanic')"
      ]
    },
    {
      "cell_type": "code",
      "execution_count": 149,
      "metadata": {
        "colab": {
          "base_uri": "https://localhost:8080/"
        },
        "id": "8ohp48tr2Zkx",
        "outputId": "08fd1582-bfc0-498f-847a-3d8a1d35d8f9"
      },
      "outputs": [
        {
          "data": {
            "text/plain": [
              "['Wide Eyed and Legless',\n",
              " 'Trevor Noah: The Daywalker',\n",
              " 'Nightbeast',\n",
              " 'The Machinist',\n",
              " 'Escape from New York']"
            ]
          },
          "execution_count": 149,
          "metadata": {},
          "output_type": "execute_result"
        }
      ],
      "source": [
        "\n",
        "recomendacion_m1('Wonder Woman')"
      ]
    },
    {
      "cell_type": "code",
      "execution_count": 150,
      "metadata": {
        "colab": {
          "base_uri": "https://localhost:8080/"
        },
        "id": "He5mDCb52rLl",
        "outputId": "61ee7087-62f7-4535-d44b-3841d7ddc1f4"
      },
      "outputs": [
        {
          "data": {
            "text/plain": [
              "['The Empire Strikes Back',\n",
              " 'The Star Wars Holiday Special',\n",
              " 'Star Wars: The Force Awakens',\n",
              " 'Return of the Jedi',\n",
              " 'Samson and the Seven Miracles of the World']"
            ]
          },
          "execution_count": 150,
          "metadata": {},
          "output_type": "execute_result"
        }
      ],
      "source": [
        "\n",
        "recomendacion_m1('Star Wars')"
      ]
    },
    {
      "cell_type": "code",
      "execution_count": 151,
      "metadata": {
        "colab": {
          "base_uri": "https://localhost:8080/"
        },
        "id": "hf6EoMn32rHi",
        "outputId": "b6f269c4-d1e3-4dd2-a95a-2ab2bc958be9"
      },
      "outputs": [
        {
          "data": {
            "text/plain": [
              "['The Work and the Glory',\n",
              " 'Monty Python and the Holy Grail',\n",
              " \"Sir Arne's Treasure\",\n",
              " 'Prince of Persia: The Sands of Time',\n",
              " 'Doctor in Distress']"
            ]
          },
          "execution_count": 151,
          "metadata": {},
          "output_type": "execute_result"
        }
      ],
      "source": [
        "\n",
        "recomendacion_m1('The Avengers')"
      ]
    },
    {
      "cell_type": "code",
      "execution_count": 152,
      "metadata": {
        "id": "nnbAZMo92rCi"
      },
      "outputs": [],
      "source": [
        "# Se extraen las columnas necesarias para el Sistema de Recomendación\n",
        "model1 = data_ML[['title', 'overview']]\n",
        "model1.to_parquet('../datasets/movies_model1.parquet')"
      ]
    },
    {
      "cell_type": "markdown",
      "metadata": {
        "id": "eqbbb3AYPRGB"
      },
      "source": [
        "## **Model2**"
      ]
    },
    {
      "cell_type": "code",
      "execution_count": 153,
      "metadata": {
        "id": "L8esqkIijW2Z"
      },
      "outputs": [],
      "source": [
        "#Extrar las columnas relevantes para el modelo\n",
        "model2 = data_ML[['title', 'overview', 'first_director']].copy()"
      ]
    },
    {
      "cell_type": "code",
      "execution_count": 154,
      "metadata": {
        "id": "H8INeLmttrIK"
      },
      "outputs": [],
      "source": [
        "# Crear una instancia de Tfidata_MLVectorizer\n",
        "tfidata_ML_2 = TfidfVectorizer(stop_words=\"english\", ngram_range=(1, 2))"
      ]
    },
    {
      "cell_type": "code",
      "execution_count": 155,
      "metadata": {
        "id": "3o0r_A-tW-Lj"
      },
      "outputs": [],
      "source": [
        "model2['concatenado'] = model2['overview'] + ' ' + model2['first_director']"
      ]
    },
    {
      "cell_type": "code",
      "execution_count": 156,
      "metadata": {
        "id": "jNtviVQ5RA2I"
      },
      "outputs": [],
      "source": [
        "# Aplicar la transformación TF-Idata_ML\n",
        "tfidata_ML_matriz_2 = tfidata_ML_2.fit_transform(model2['concatenado'])"
      ]
    },
    {
      "cell_type": "code",
      "execution_count": 157,
      "metadata": {
        "id": "BA_qFE8ERNkv"
      },
      "outputs": [],
      "source": [
        "# Función para obtener recomendaciones\n",
        "def recomendacion_m2(titulo):\n",
        "    #Crear una serie que asigna un índice a cada título de las películas\n",
        "    indices = pd.Series(model2.index, index=model2['title']).drop_duplicates()\n",
        "    if titulo not in indices:\n",
        "        return 'La película ingresada no se encuentra en la base de datos'\n",
        "    else:\n",
        "        #Obtener el índice de la película que coincide con el título\n",
        "        ind = pd.Series(indices[titulo]) if titulo in indices else None\n",
        "        #Si el título de la película está duplicado, devolver el índice de la primera aparición del título en el DataFrame\n",
        "        if model2.duplicated(['title']).any():\n",
        "            primer_ind = model2[model1['title'] == titulo].index[0]\n",
        "            if not ind.equals(pd.Series(primer_ind)):\n",
        "                ind = pd.Series(primer_ind)\n",
        "        #Calcular la similitud coseno entre la película de entrada y todas las demás películas en la matriz de características\n",
        "        cosine_sim = cosine_similarity(tfidata_ML_matriz_2[ind], tfidata_ML_matriz_2).flatten()\n",
        "        simil = sorted(enumerate(cosine_sim), key=lambda x: x[1], reverse=True)[1:6]\n",
        "        #Verificar que los índices obtenidos son válidos\n",
        "        valid_ind = [i[0] for i in simil if i[0] < len(model2)]\n",
        "        #Obtener los títulos de las películas más similares utilizando el índice de cada película\n",
        "        recomendaciones = model2.iloc[valid_ind]['title'].tolist()\n",
        "        #Devolver la lista de títulos de las películas recomendadas\n",
        "        return recomendaciones\n"
      ]
    },
    {
      "cell_type": "code",
      "execution_count": 158,
      "metadata": {
        "colab": {
          "base_uri": "https://localhost:8080/"
        },
        "id": "eR1qV6yoRNdT",
        "outputId": "597fceea-a819-4a74-d8ee-0065256f5435"
      },
      "outputs": [
        {
          "data": {
            "text/plain": [
              "['Grantham and Rose',\n",
              " 'The Legend of 1900',\n",
              " 'Dustbin Baby',\n",
              " 'Women of the Prehistoric Planet',\n",
              " 'Raise the Titanic']"
            ]
          },
          "execution_count": 158,
          "metadata": {},
          "output_type": "execute_result"
        }
      ],
      "source": [
        "recomendacion_m2('Titanic')"
      ]
    },
    {
      "cell_type": "code",
      "execution_count": 159,
      "metadata": {
        "colab": {
          "base_uri": "https://localhost:8080/"
        },
        "id": "c_hVc-hoRNRk",
        "outputId": "bc150104-645a-4320-dd92-b75013abe5b6"
      },
      "outputs": [
        {
          "data": {
            "text/plain": [
              "['The Robbery of the Third Reich',\n",
              " 'Bloodbrothers',\n",
              " 'Stand by Me Doraemon',\n",
              " 'The War of the Robots',\n",
              " 'Bill Hicks: Revelations']"
            ]
          },
          "execution_count": 159,
          "metadata": {},
          "output_type": "execute_result"
        }
      ],
      "source": [
        "recomendacion_m2('Avatar')"
      ]
    },
    {
      "cell_type": "code",
      "execution_count": 160,
      "metadata": {
        "colab": {
          "base_uri": "https://localhost:8080/"
        },
        "id": "UoEZh3kESLQQ",
        "outputId": "1f33e46d-41c6-4b3d-b942-fc2dc5463787"
      },
      "outputs": [
        {
          "data": {
            "text/plain": [
              "['Wide Eyed and Legless',\n",
              " 'The Machinist',\n",
              " 'Escape from New York',\n",
              " 'Diana',\n",
              " 'Our Dancing Daughters']"
            ]
          },
          "execution_count": 160,
          "metadata": {},
          "output_type": "execute_result"
        }
      ],
      "source": [
        "recomendacion_m2('Wonder Woman')"
      ]
    },
    {
      "cell_type": "code",
      "execution_count": 161,
      "metadata": {
        "colab": {
          "base_uri": "https://localhost:8080/"
        },
        "id": "9psqpDG8ScMk",
        "outputId": "4a6362da-8458-4b88-a5ab-0dbf3dce668d"
      },
      "outputs": [
        {
          "data": {
            "text/plain": [
              "['The Empire Strikes Back',\n",
              " 'The Star Wars Holiday Special',\n",
              " 'Star Wars: The Force Awakens',\n",
              " 'Return of the Jedi',\n",
              " 'Ale e Franz - È tanto che aspetti?']"
            ]
          },
          "execution_count": 161,
          "metadata": {},
          "output_type": "execute_result"
        }
      ],
      "source": [
        "recomendacion_m2('Star Wars')"
      ]
    },
    {
      "cell_type": "code",
      "execution_count": 162,
      "metadata": {
        "colab": {
          "base_uri": "https://localhost:8080/"
        },
        "id": "p3gB_mcKSj9Z",
        "outputId": "30cce984-4ada-4555-d0cf-fda1a2bf1268"
      },
      "outputs": [
        {
          "data": {
            "text/plain": [
              "['The Work and the Glory',\n",
              " 'Monty Python and the Holy Grail',\n",
              " \"Sir Arne's Treasure\",\n",
              " 'Prince of Persia: The Sands of Time',\n",
              " 'Doctor in Distress']"
            ]
          },
          "execution_count": 162,
          "metadata": {},
          "output_type": "execute_result"
        }
      ],
      "source": [
        "recomendacion_m2('The Avengers')"
      ]
    },
    {
      "cell_type": "code",
      "execution_count": 163,
      "metadata": {
        "colab": {
          "base_uri": "https://localhost:8080/"
        },
        "id": "c0U18-ard-Vm",
        "outputId": "6c048bd6-ec1b-4420-bbb9-4c3645e40451"
      },
      "outputs": [
        {
          "data": {
            "text/plain": [
              "['Shrek 2',\n",
              " 'Shrek the Third',\n",
              " 'We Stand Alone Together',\n",
              " 'Silk Stockings',\n",
              " 'Scared Shrekless']"
            ]
          },
          "execution_count": 163,
          "metadata": {},
          "output_type": "execute_result"
        }
      ],
      "source": [
        "recomendacion_m2('Shrek')"
      ]
    },
    {
      "cell_type": "markdown",
      "metadata": {
        "id": "gqpoYduTS8x1"
      },
      "source": [
        "## **Model3**"
      ]
    },
    {
      "cell_type": "code",
      "execution_count": 164,
      "metadata": {
        "id": "ndxm106KS4av"
      },
      "outputs": [],
      "source": [
        "#Extrar las columnas relevantes para el modelo\n",
        "model3 = data_ML[['title', 'overview', 'genres', 'first_director']].copy()"
      ]
    },
    {
      "cell_type": "code",
      "execution_count": 165,
      "metadata": {
        "id": "3vp-VJrNTd4W"
      },
      "outputs": [],
      "source": [
        "##Se separan los géneros y se convierten en palabras individuales\n",
        "model3['genres'] = model3['genres'].fillna('').apply(lambda x: ' '.join(x.replace(',', ' ').replace('-', '').lower().split()))"
      ]
    },
    {
      "cell_type": "code",
      "execution_count": 166,
      "metadata": {
        "id": "4gkZIT9LUi33"
      },
      "outputs": [],
      "source": [
        "# Se crea una instancia de la clase Tfidata_MLVectorizer\n",
        "tfidata_ML_3 = TfidfVectorizer(stop_words=\"english\", ngram_range=(1, 2))\n",
        "# Aplicar la transformación TF-Idata_ML al texto contenido en las columnas \"overview_clean\", \"genres\" y \"director\" del dataframe 'modelo4'\n",
        "tfidata_ML_matriz_3 = tfidata_ML_3.fit_transform(model3['overview'] + ' ' + model3['genres'] + ' ' + model3['first_director'])"
      ]
    },
    {
      "cell_type": "code",
      "execution_count": 167,
      "metadata": {
        "colab": {
          "base_uri": "https://localhost:8080/"
        },
        "id": "sY-6yv92UirE",
        "outputId": "55371a0f-8020-4536-8c0a-8364c45e4490"
      },
      "outputs": [
        {
          "data": {
            "text/plain": [
              "(44425, 1093045)"
            ]
          },
          "execution_count": 167,
          "metadata": {},
          "output_type": "execute_result"
        }
      ],
      "source": [
        "tfidata_ML_matriz_3.shape"
      ]
    },
    {
      "cell_type": "code",
      "execution_count": 168,
      "metadata": {
        "id": "KgQ2PJUBVPXe"
      },
      "outputs": [],
      "source": [
        "# Función para obtener recomendaciones\n",
        "def recomendacion_m3(titulo):\n",
        "    #Crear una serie que asigna un índice a cada título de las películas\n",
        "    indices = pd.Series(model3.index, index=model3['title']).drop_duplicates()\n",
        "    if titulo not in indices:\n",
        "        return 'La película ingresada no se encuentra en la base de datos'\n",
        "    else:\n",
        "        #Obtener el índice de la película que coincide con el título\n",
        "        ind = pd.Series(indices[titulo]) if titulo in indices else None\n",
        "        #Si el título de la película está duplicado, devolver el índice de la primera aparición del título en el DataFrame\n",
        "        if model1.duplicated(['title']).any():\n",
        "            primer_ind = model3[model3['title'] == titulo].index[0]\n",
        "            if not ind.equals(pd.Series(primer_ind)):\n",
        "                ind = pd.Series(primer_ind)\n",
        "        #Calcular la similitud coseno entre la película de entrada y todas las demás películas en la matriz de características\n",
        "        cosine_sim = cosine_similarity(tfidata_ML_matriz_3[ind], tfidata_ML_matriz_3).flatten()\n",
        "        simil = sorted(enumerate(cosine_sim), key=lambda x: x[1], reverse=True)[1:6]\n",
        "        #Verificar que los índices obtenidos son válidos\n",
        "        valid_ind = [i[0] for i in simil if i[0] < len(model3)]\n",
        "        #Obtener los títulos de las películas más similares utilizando el índice de cada película\n",
        "        recomendaciones = model3.iloc[valid_ind]['title'].tolist()\n",
        "        #Devolver la lista de títulos de las películas recomendadas\n",
        "        return recomendaciones"
      ]
    },
    {
      "cell_type": "code",
      "execution_count": 169,
      "metadata": {
        "colab": {
          "base_uri": "https://localhost:8080/"
        },
        "id": "a74fWdccVPIx",
        "outputId": "1fa8f46d-ac57-415d-835e-f5fcf1bba302"
      },
      "outputs": [
        {
          "data": {
            "text/plain": [
              "['Grantham and Rose',\n",
              " 'Drona',\n",
              " 'The Legend of 1900',\n",
              " 'Dustbin Baby',\n",
              " 'Raise the Titanic']"
            ]
          },
          "execution_count": 169,
          "metadata": {},
          "output_type": "execute_result"
        }
      ],
      "source": [
        "recomendacion_m3('Titanic')"
      ]
    },
    {
      "cell_type": "code",
      "execution_count": 170,
      "metadata": {
        "colab": {
          "base_uri": "https://localhost:8080/"
        },
        "id": "1hKFFsxvWxt2",
        "outputId": "96edc795-2936-426e-d2af-d604ea3e52b0"
      },
      "outputs": [
        {
          "data": {
            "text/plain": [
              "['The War of the Robots',\n",
              " 'The Robbery of the Third Reich',\n",
              " 'Avatar 2',\n",
              " 'Stand by Me Doraemon',\n",
              " 'Bloodbrothers']"
            ]
          },
          "execution_count": 170,
          "metadata": {},
          "output_type": "execute_result"
        }
      ],
      "source": [
        "recomendacion_m3('Avatar')"
      ]
    },
    {
      "cell_type": "code",
      "execution_count": 171,
      "metadata": {
        "colab": {
          "base_uri": "https://localhost:8080/"
        },
        "id": "A7aiVJ2lW8XW",
        "outputId": "7ed0804d-644d-48df-d01a-37671d12a7db"
      },
      "outputs": [
        {
          "data": {
            "text/plain": [
              "['Wide Eyed and Legless',\n",
              " 'Escape from New York',\n",
              " 'Dinotopia: Quest for the Ruby Sunstone',\n",
              " 'Nightbeast',\n",
              " 'The Machinist']"
            ]
          },
          "execution_count": 171,
          "metadata": {},
          "output_type": "execute_result"
        }
      ],
      "source": [
        "recomendacion_m3('Wonder Woman')"
      ]
    },
    {
      "cell_type": "code",
      "execution_count": 172,
      "metadata": {
        "colab": {
          "base_uri": "https://localhost:8080/"
        },
        "id": "ktPBpltXXD5N",
        "outputId": "d945027d-d915-43a8-9ab9-98ecb0e4dda4"
      },
      "outputs": [
        {
          "data": {
            "text/plain": [
              "['The Empire Strikes Back',\n",
              " 'The Star Wars Holiday Special',\n",
              " 'Star Wars: The Force Awakens',\n",
              " 'Return of the Jedi',\n",
              " \"Bill & Ted's Bogus Journey\"]"
            ]
          },
          "execution_count": 172,
          "metadata": {},
          "output_type": "execute_result"
        }
      ],
      "source": [
        "recomendacion_m3('Star Wars')"
      ]
    },
    {
      "cell_type": "code",
      "execution_count": 173,
      "metadata": {
        "colab": {
          "base_uri": "https://localhost:8080/"
        },
        "id": "ke7vvNktXLsv",
        "outputId": "202d3cdc-4583-46b1-b210-0bb0925e91d2"
      },
      "outputs": [
        {
          "data": {
            "text/plain": [
              "['The Work and the Glory',\n",
              " 'Monty Python and the Holy Grail',\n",
              " \"Sir Arne's Treasure\",\n",
              " 'Prince of Persia: The Sands of Time',\n",
              " 'Doctor in Distress']"
            ]
          },
          "execution_count": 173,
          "metadata": {},
          "output_type": "execute_result"
        }
      ],
      "source": [
        "recomendacion_m2('The Avengers')"
      ]
    },
    {
      "cell_type": "markdown",
      "metadata": {
        "id": "AfAm5JUKcc-D"
      },
      "source": [
        "**Se decide probar con los atributos 'title', 'collection_name', 'first_actor', 'first_director' esperando tener una posible mejora en cuanto a la precisión de las recomendaciones**"
      ]
    },
    {
      "cell_type": "markdown",
      "metadata": {
        "id": "fWm2mV6tClev"
      },
      "source": [
        "## **Model4**"
      ]
    },
    {
      "cell_type": "code",
      "execution_count": 174,
      "metadata": {
        "id": "yvvjkIp6CgR4"
      },
      "outputs": [],
      "source": [
        "#Extrar las columnas relevantes para el modelo\n",
        "model4 = data_ML[['title', 'genres', 'first_actor', 'first_director']].copy()"
      ]
    },
    {
      "cell_type": "code",
      "execution_count": 175,
      "metadata": {
        "id": "pk8AJw4FCgMf"
      },
      "outputs": [],
      "source": [
        "#Se separan los géneros y se convierten en palabras individuales\n",
        "model4['genres'] = model4['genres'].fillna('').apply(lambda x: ' '.join(x.replace(',', ' ').replace('-', '').lower().split()))"
      ]
    },
    {
      "cell_type": "code",
      "execution_count": 176,
      "metadata": {
        "id": "G65yswqpCgBR"
      },
      "outputs": [],
      "source": [
        "#Se crea una instancia de la clase Tfidata_MLVectorizer\n",
        "tfidata_ML_4 = TfidfVectorizer(stop_words=\"english\", ngram_range=(1, 2))\n",
        "# Aplicar la transformación TF-Idata_ML al texto contenido en las columnas \"overview_clean\", \"genres\" y \"director\" del dataframe 'modelo4'\n",
        "tfidata_ML_matriz_4 = tfidata_ML_4.fit_transform(model4['genres'] + ' ' + model4['first_actor'] + ' ' + model4['first_director'])"
      ]
    },
    {
      "cell_type": "code",
      "execution_count": 177,
      "metadata": {
        "id": "vCHhkDr2Cf1k"
      },
      "outputs": [],
      "source": [
        "# Función para obtener recomendaciones\n",
        "def recomendacion_m4(titulo):\n",
        "    #Crear una serie que asigna un índice a cada título de las películas\n",
        "    indices = pd.Series(model4.index, index=model4['title']).drop_duplicates()\n",
        "    if titulo not in indices:\n",
        "        return 'La película ingresada no se encuentra en la base de datos'\n",
        "    else:\n",
        "        #Obtener el índice de la película que coincide con el título\n",
        "        ind = pd.Series(indices[titulo]) if titulo in indices else None\n",
        "        #Si el título de la película está duplicado, devolver el índice de la primera aparición del título en el DataFrame\n",
        "        if model4.duplicated(['title']).any():\n",
        "            primer_ind = model4[model4['title'] == titulo].index[0]\n",
        "            if not ind.equals(pd.Series(primer_ind)):\n",
        "                ind = pd.Series(primer_ind)\n",
        "        #Calcular la similitud coseno entre la película de entrada y todas las demás películas en la matriz de características\n",
        "        cosine_sim = cosine_similarity(tfidata_ML_matriz_4[ind], tfidata_ML_matriz_4).flatten()\n",
        "        simil = sorted(enumerate(cosine_sim), key=lambda x: x[1], reverse=True)[1:6]\n",
        "        #Verificar que los índices obtenidos son válidos\n",
        "        valid_ind = [i[0] for i in simil if i[0] < len(model4)]\n",
        "        #Obtener los títulos de las películas más similares utilizando el índice de cada película\n",
        "        recomendaciones = model4.iloc[valid_ind]['title'].tolist()\n",
        "        #Devolver la lista de títulos de las películas recomendadas\n",
        "        return recomendaciones"
      ]
    },
    {
      "cell_type": "code",
      "execution_count": 178,
      "metadata": {
        "colab": {
          "base_uri": "https://localhost:8080/"
        },
        "id": "bXkGSdTiDwJA",
        "outputId": "dda52a3f-47eb-4d3d-b870-690c1a89f8ef"
      },
      "outputs": [
        {
          "data": {
            "text/plain": [
              "['The Deaths of Ian Stone', 'GoldenEye', 'Godsend', 'Pusher', 'Thirst']"
            ]
          },
          "execution_count": 178,
          "metadata": {},
          "output_type": "execute_result"
        }
      ],
      "source": [
        "recomendacion_m4('Titanic')"
      ]
    },
    {
      "cell_type": "code",
      "execution_count": 179,
      "metadata": {
        "colab": {
          "base_uri": "https://localhost:8080/"
        },
        "id": "w6zmfZb6DwDx",
        "outputId": "e62ea8ca-665d-48a1-d2fd-e0ff00704414"
      },
      "outputs": [
        {
          "data": {
            "text/plain": [
              "[\"Being Elmo: A Puppeteer's Journey\",\n",
              " 'The H-Man',\n",
              " 'Summer in Tyrol',\n",
              " 'Tracks',\n",
              " 'The River Wild']"
            ]
          },
          "execution_count": 179,
          "metadata": {},
          "output_type": "execute_result"
        }
      ],
      "source": [
        "recomendacion_m4('Avatar')"
      ]
    },
    {
      "cell_type": "code",
      "execution_count": 180,
      "metadata": {
        "colab": {
          "base_uri": "https://localhost:8080/"
        },
        "id": "hd7ABj_uFC4E",
        "outputId": "a1289204-9257-4a03-c62c-7aa31a65e0c0"
      },
      "outputs": [
        {
          "data": {
            "text/plain": [
              "['Office Killer',\n",
              " 'Little Secrets',\n",
              " 'A Monster in Paris',\n",
              " 'Western Union',\n",
              " 'The Bullfighters']"
            ]
          },
          "execution_count": 180,
          "metadata": {},
          "output_type": "execute_result"
        }
      ],
      "source": [
        "recomendacion_m4('Shrek')"
      ]
    },
    {
      "cell_type": "code",
      "execution_count": 181,
      "metadata": {
        "colab": {
          "base_uri": "https://localhost:8080/"
        },
        "id": "JwFSKkyxFIlI",
        "outputId": "8c6b55dc-6ae5-4b94-ceaf-06a35f62b300"
      },
      "outputs": [
        {
          "data": {
            "text/plain": [
              "['The Empire Strikes Back',\n",
              " 'Return of the Jedi',\n",
              " \"Bill & Ted's Bogus Journey\",\n",
              " 'Eddie Izzard: Dress to Kill',\n",
              " 'Xtro 2: The Second Encounter']"
            ]
          },
          "execution_count": 181,
          "metadata": {},
          "output_type": "execute_result"
        }
      ],
      "source": [
        "recomendacion_m4('Star Wars')"
      ]
    },
    {
      "cell_type": "code",
      "execution_count": 182,
      "metadata": {
        "colab": {
          "base_uri": "https://localhost:8080/"
        },
        "id": "t0gGmMZpFWbY",
        "outputId": "8b31ab36-9466-49db-db48-b0587da92f36"
      },
      "outputs": [
        {
          "data": {
            "text/plain": [
              "['Funny Farm',\n",
              " 'And the Band Played On',\n",
              " 'National Treasure: Book of Secrets',\n",
              " 'Troop Beverly Hills',\n",
              " 'Over the Hedge']"
            ]
          },
          "execution_count": 182,
          "metadata": {},
          "output_type": "execute_result"
        }
      ],
      "source": [
        "recomendacion_m4('Toy Story')"
      ]
    },
    {
      "cell_type": "code",
      "execution_count": 183,
      "metadata": {
        "colab": {
          "base_uri": "https://localhost:8080/"
        },
        "id": "KZMg-9A6FWNS",
        "outputId": "5d8cf1b8-f410-467d-cf2c-4f4c618412ff"
      },
      "outputs": [
        {
          "data": {
            "text/plain": [
              "['Unbreakable',\n",
              " 'The Treasure of the Sierra Madre',\n",
              " \"Girls Can't Swim\",\n",
              " 'Apocalypse Now',\n",
              " 'Mayor of the Sunset Strip']"
            ]
          },
          "execution_count": 183,
          "metadata": {},
          "output_type": "execute_result"
        }
      ],
      "source": [
        "recomendacion_m4('Star Trek')"
      ]
    },
    {
      "cell_type": "code",
      "execution_count": 184,
      "metadata": {
        "colab": {
          "base_uri": "https://localhost:8080/"
        },
        "id": "P8ykcyn8FhHv",
        "outputId": "20a38b10-44c9-468a-c3e8-2122d7f019a2"
      },
      "outputs": [
        {
          "data": {
            "text/plain": [
              "[\"Encounter at Raven's Gate\",\n",
              " 'Blazing a Trail to the Stars',\n",
              " 'Passengers',\n",
              " 'White Out, Black In',\n",
              " 'Beloved']"
            ]
          },
          "execution_count": 184,
          "metadata": {},
          "output_type": "execute_result"
        }
      ],
      "source": [
        "recomendacion_m4('Mars')"
      ]
    },
    {
      "cell_type": "code",
      "execution_count": 185,
      "metadata": {
        "colab": {
          "base_uri": "https://localhost:8080/"
        },
        "id": "NrXKoIH-FmIF",
        "outputId": "f4ba8d10-d46a-455d-db2d-7611869eae0b"
      },
      "outputs": [
        {
          "data": {
            "text/plain": [
              "[\"Being Elmo: A Puppeteer's Journey\",\n",
              " 'The H-Man',\n",
              " 'Summer in Tyrol',\n",
              " 'Tracks',\n",
              " 'The River Wild']"
            ]
          },
          "execution_count": 185,
          "metadata": {},
          "output_type": "execute_result"
        }
      ],
      "source": [
        "recomendacion_m4('Avatar')"
      ]
    },
    {
      "cell_type": "code",
      "execution_count": 186,
      "metadata": {
        "colab": {
          "base_uri": "https://localhost:8080/"
        },
        "id": "oYIvvai2Ft92",
        "outputId": "b960ec34-cafe-4644-ff05-39cea8436ea4"
      },
      "outputs": [
        {
          "data": {
            "text/plain": [
              "['Piranhaconda',\n",
              " 'Love, etc.',\n",
              " 'Weekend of a Champion',\n",
              " 'Rosewater',\n",
              " 'Eddie Murphy Raw']"
            ]
          },
          "execution_count": 186,
          "metadata": {},
          "output_type": "execute_result"
        }
      ],
      "source": [
        "recomendacion_m4('The Hunger Games')"
      ]
    },
    {
      "cell_type": "code",
      "execution_count": 187,
      "metadata": {
        "colab": {
          "base_uri": "https://localhost:8080/"
        },
        "id": "q1_RI5GTFtmV",
        "outputId": "810f4806-be1a-4c8c-b215-39a461abefa6"
      },
      "outputs": [
        {
          "data": {
            "text/plain": [
              "['Heartburn',\n",
              " 'Sleepless in Seattle',\n",
              " 'Arthur',\n",
              " 'A Summer in St. Tropez',\n",
              " 'Jersey Girl']"
            ]
          },
          "execution_count": 187,
          "metadata": {},
          "output_type": "execute_result"
        }
      ],
      "source": [
        "recomendacion_m4('Forrest Gump')"
      ]
    },
    {
      "cell_type": "code",
      "execution_count": 188,
      "metadata": {
        "colab": {
          "base_uri": "https://localhost:8080/"
        },
        "id": "v7jEKoC6GOML",
        "outputId": "733d1540-088e-4279-c119-875220f104fb"
      },
      "outputs": [
        {
          "data": {
            "text/plain": [
              "['Cyborg',\n",
              " 'Godzilla vs. Biollante',\n",
              " 'Phase IV',\n",
              " 'Beginning of the End',\n",
              " 'Dirty Mary Crazy Larry']"
            ]
          },
          "execution_count": 188,
          "metadata": {},
          "output_type": "execute_result"
        }
      ],
      "source": [
        "recomendacion_m4('Men in Black')"
      ]
    },
    {
      "cell_type": "code",
      "execution_count": 189,
      "metadata": {
        "colab": {
          "base_uri": "https://localhost:8080/"
        },
        "id": "qs6Kk9RbnojP",
        "outputId": "82ae8fb9-4384-46ac-acaa-c29a3ec34493"
      },
      "outputs": [
        {
          "data": {
            "text/plain": [
              "['There Will Come Soft Rains',\n",
              " 'Elephants Dream',\n",
              " 'More',\n",
              " 'Invaders from the Deep',\n",
              " 'The Call Up']"
            ]
          },
          "execution_count": 189,
          "metadata": {},
          "output_type": "execute_result"
        }
      ],
      "source": [
        "recomendacion_m4('Wonder Woman')"
      ]
    },
    {
      "cell_type": "markdown",
      "metadata": {
        "id": "VbSLY-M1Pens"
      },
      "source": [
        "## **Model5**"
      ]
    },
    {
      "cell_type": "code",
      "execution_count": 190,
      "metadata": {
        "id": "jzZeYgQcPdyu"
      },
      "outputs": [],
      "source": [
        "#Extrar las columnas relevantes para el modelo\n",
        "model5 = data_ML[['title', 'genres', 'tagline' ,'first_actor', 'first_director']].copy()"
      ]
    },
    {
      "cell_type": "code",
      "execution_count": 191,
      "metadata": {
        "id": "22ZUuUlTPds9"
      },
      "outputs": [],
      "source": [
        "#Se separan los géneros y se convierten en palabras individuales\n",
        "model5['genres'] = model5['genres'].fillna('').apply(lambda x: ' '.join(x.replace(',', ' ').replace('-', '').lower().split()))\n",
        "#Se separan los slogans y se convierten en palabras individuales\n",
        "model5['tagline'] = model5['tagline'].fillna('').apply(lambda x: ' '.join(x.replace(',', ' ').replace('-', '').lower().split()))\n",
        "#Se crea una instancia de la clase Tfidata_MLVectorizer\n",
        "tfidata_ML_5 = TfidfVectorizer(stop_words=\"english\", ngram_range=(1, 2))\n",
        "#Aplicar la transformación TF-Idata_ML y obtener matriz numérica\n",
        "tfidata_ML_matriz_5 = tfidata_ML_5.fit_transform(model5['genres'] + ' ' + model5['tagline'] + ' ' + model5['first_actor']+ ' ' + model5['first_director'])"
      ]
    },
    {
      "cell_type": "code",
      "execution_count": 192,
      "metadata": {
        "id": "QinS6J8tRK5w"
      },
      "outputs": [],
      "source": [
        "# Función para obtener recomendaciones\n",
        "def recomendacion_m5(titulo):\n",
        "  #Crear una serie que asigna un índice a cada título de las películas\n",
        "    indices = pd.Series(model5.index, index=model5['title']).drop_duplicates()\n",
        "    if titulo not in indices:\n",
        "        return 'La película ingresada no se encuentra en la base de datos'\n",
        "    else:\n",
        "        #Obtener el índice de la película que coincide con el título\n",
        "        ind = pd.Series(indices[titulo]) if titulo in indices else None\n",
        "        #Si el título de la película está duplicado, devolver el índice de la primera aparición del título en el DataFrame\n",
        "        if model5.duplicated(['title']).any():\n",
        "            primer_ind = model5[model5['title'] == titulo].index[0]\n",
        "            if not ind.equals(pd.Series(primer_ind)):\n",
        "                ind = pd.Series(primer_ind)\n",
        "        #Calcular la similitud coseno entre la película de entrada y todas las demás películas en la matriz de características\n",
        "        cosine_sim = cosine_similarity(tfidata_ML_matriz_5[ind], tfidata_ML_matriz_5).flatten()\n",
        "        simil = sorted(enumerate(cosine_sim), key=lambda x: x[1], reverse=True)[1:6]\n",
        "        #Verificar que los índices obtenidos son válidos\n",
        "        valid_ind = [i[0] for i in simil if i[0] < len(model5)]\n",
        "        #Obtener los títulos de las películas más similares utilizando el índice de cada película\n",
        "        recomendaciones = model5.iloc[valid_ind]['title'].tolist()\n",
        "        #Devolver la lista de títulos de las películas recomendadas\n",
        "        return recomendaciones"
      ]
    },
    {
      "cell_type": "code",
      "execution_count": 193,
      "metadata": {
        "colab": {
          "base_uri": "https://localhost:8080/"
        },
        "id": "jXzm4BgbRKs8",
        "outputId": "93a00f88-ed32-419e-c719-5a32e0d00921"
      },
      "outputs": [
        {
          "data": {
            "text/plain": [
              "['And the Band Played On',\n",
              " 'National Treasure: Book of Secrets',\n",
              " 'The Fourth World War',\n",
              " '47 Samurai',\n",
              " 'Late Bloomers']"
            ]
          },
          "execution_count": 193,
          "metadata": {},
          "output_type": "execute_result"
        }
      ],
      "source": [
        "recomendacion_m5('Toy Story')"
      ]
    },
    {
      "cell_type": "code",
      "execution_count": 194,
      "metadata": {
        "colab": {
          "base_uri": "https://localhost:8080/"
        },
        "id": "YhtAa2obRKo9",
        "outputId": "2fe6454b-3e1c-419b-eb02-387757ddfde5"
      },
      "outputs": [
        {
          "data": {
            "text/plain": [
              "['Macross Plus: Movie Edition',\n",
              " 'DC Showcase: Catwoman',\n",
              " 'Mobile Suit Gundam II: Soldiers of Sorrow',\n",
              " 'There Will Come Soft Rains',\n",
              " 'Elephants Dream']"
            ]
          },
          "execution_count": 194,
          "metadata": {},
          "output_type": "execute_result"
        }
      ],
      "source": [
        "recomendacion_m5('Wonder Woman')"
      ]
    },
    {
      "cell_type": "code",
      "execution_count": 195,
      "metadata": {
        "colab": {
          "base_uri": "https://localhost:8080/"
        },
        "id": "0_Is1yCBRKkR",
        "outputId": "b3467226-88e5-44a6-ecb7-e7e68518f609"
      },
      "outputs": [
        {
          "data": {
            "text/plain": [
              "[\"Being Elmo: A Puppeteer's Journey\",\n",
              " 'Summer in Tyrol',\n",
              " 'Blackbird',\n",
              " 'Bleak Moments',\n",
              " 'Tracks']"
            ]
          },
          "execution_count": 195,
          "metadata": {},
          "output_type": "execute_result"
        }
      ],
      "source": [
        "recomendacion_m5('Avatar')"
      ]
    },
    {
      "cell_type": "code",
      "execution_count": 196,
      "metadata": {
        "colab": {
          "base_uri": "https://localhost:8080/"
        },
        "id": "ybwI5Ps2RtW2",
        "outputId": "38b0328b-ad11-4d7c-8000-a778dbc67c87"
      },
      "outputs": [
        {
          "data": {
            "text/plain": [
              "['The Lords of Flatbush',\n",
              " 'Time to Leave',\n",
              " 'Fresh',\n",
              " 'Les Dames du Bois de Boulogne',\n",
              " 'Casual Sex?']"
            ]
          },
          "execution_count": 196,
          "metadata": {},
          "output_type": "execute_result"
        }
      ],
      "source": [
        "recomendacion_m5('Batman Returns')"
      ]
    },
    {
      "cell_type": "code",
      "execution_count": 197,
      "metadata": {
        "colab": {
          "base_uri": "https://localhost:8080/"
        },
        "id": "bYXKFdiDRxM3",
        "outputId": "5a486790-67d2-47e0-d7fc-0ce4e112b67e"
      },
      "outputs": [
        {
          "data": {
            "text/plain": [
              "['The Star Wars Holiday Special',\n",
              " 'The Galaxy Invader',\n",
              " \"On Her Majesty's Secret Service\",\n",
              " 'The Empire Strikes Back',\n",
              " 'The Pied Piper']"
            ]
          },
          "execution_count": 197,
          "metadata": {},
          "output_type": "execute_result"
        }
      ],
      "source": [
        "recomendacion_m5('Star Wars')"
      ]
    },
    {
      "cell_type": "code",
      "execution_count": 198,
      "metadata": {
        "colab": {
          "base_uri": "https://localhost:8080/"
        },
        "id": "MwvEB099SFQq",
        "outputId": "d4e4c59c-96f0-42ae-90cb-4490cfe002b0"
      },
      "outputs": [
        {
          "data": {
            "text/plain": [
              "['Medusa',\n",
              " 'Get Smart',\n",
              " 'Bigfoot: The Lost Coast Tapes',\n",
              " 'The Man from U.N.C.L.E.',\n",
              " 'Super Fuzz']"
            ]
          },
          "execution_count": 198,
          "metadata": {},
          "output_type": "execute_result"
        }
      ],
      "source": [
        "recomendacion_m5('The Avengers')"
      ]
    },
    {
      "cell_type": "code",
      "execution_count": 199,
      "metadata": {
        "colab": {
          "base_uri": "https://localhost:8080/"
        },
        "id": "uaSMPv_2SLsK",
        "outputId": "9427a0fd-08dc-47a7-c9c9-15b4350089c7"
      },
      "outputs": [
        {
          "data": {
            "text/plain": [
              "['The Memory Of A Killer',\n",
              " 'Trapped in the Closet: Chapters 13-22',\n",
              " 'The Little Girl Who Conquered Time',\n",
              " 'Civil Brand',\n",
              " 'Elizabethtown']"
            ]
          },
          "execution_count": 199,
          "metadata": {},
          "output_type": "execute_result"
        }
      ],
      "source": [
        "recomendacion_m5('The Dark Knight Rises')"
      ]
    },
    {
      "cell_type": "code",
      "execution_count": 200,
      "metadata": {
        "colab": {
          "base_uri": "https://localhost:8080/"
        },
        "id": "_irsYSx5SuYY",
        "outputId": "8b759b5e-76a1-4937-feac-7ef484f25a27"
      },
      "outputs": [
        {
          "data": {
            "text/plain": [
              "['Gunner Palace',\n",
              " 'When Evening Falls on Bucharest or Metabolism',\n",
              " 'The Living Room of the Nation',\n",
              " 'An Innocent Man',\n",
              " 'My Name Is Joe']"
            ]
          },
          "execution_count": 200,
          "metadata": {},
          "output_type": "execute_result"
        }
      ],
      "source": [
        "recomendacion_m5('Jumanji')"
      ]
    },
    {
      "cell_type": "code",
      "execution_count": 201,
      "metadata": {
        "colab": {
          "base_uri": "https://localhost:8080/"
        },
        "id": "phiNG2ygSuS-",
        "outputId": "22b69ae0-defc-4a0e-a47c-9ab15f65c366"
      },
      "outputs": [
        {
          "data": {
            "text/plain": [
              "['Lenny',\n",
              " 'Restless Blood',\n",
              " 'Jonny Quest Vs. The Cyber Insects',\n",
              " 'Robotrix',\n",
              " 'Bhutto']"
            ]
          },
          "execution_count": 201,
          "metadata": {},
          "output_type": "execute_result"
        }
      ],
      "source": [
        "recomendacion_m5('Titanic')"
      ]
    },
    {
      "cell_type": "code",
      "execution_count": 202,
      "metadata": {
        "colab": {
          "base_uri": "https://localhost:8080/"
        },
        "id": "YmQ7F6qlSuKy",
        "outputId": "cb90949b-37b9-437a-bc19-fd2c23784a42"
      },
      "outputs": [
        {
          "data": {
            "text/plain": [
              "['All the Rage',\n",
              " 'Bomb It',\n",
              " 'Spirit of the Marathon',\n",
              " 'King and the Clown',\n",
              " 'Scooby-Doo! Legend of the Phantosaur']"
            ]
          },
          "execution_count": 202,
          "metadata": {},
          "output_type": "execute_result"
        }
      ],
      "source": [
        "recomendacion_m5('Men in Black')"
      ]
    },
    {
      "cell_type": "markdown",
      "metadata": {
        "id": "-hVMuWivj5cs"
      },
      "source": [
        "## **Modelo seleccionado**\n",
        "El modelo Model3 fue el que presentó una mejor recomendación pero tiene un mayor costo computacional. Es por ello que elegimos el segundo mejor modelo, Model5, que podrá adaptarse a las limitaciones de memoria del sitio render."
      ]
    },
    {
      "cell_type": "code",
      "execution_count": 203,
      "metadata": {
        "id": "QDl8i-xOUeQB"
      },
      "outputs": [],
      "source": [
        "# Se extraen las columnas necesarias para el Sistema de Recomendación\n",
        "model5 = data_ML[['title', 'genres', 'tagline' ,'first_actor', 'first_director']]"
      ]
    },
    {
      "cell_type": "code",
      "execution_count": 204,
      "metadata": {
        "id": "fflHUsMCUi3s"
      },
      "outputs": [],
      "source": [
        "# Se exportan los datos a formato parquet\n",
        "model5.to_parquet('movies_model5.parquet')"
      ]
    },
    {
      "cell_type": "code",
      "execution_count": 205,
      "metadata": {
        "colab": {
          "base_uri": "https://localhost:8080/"
        },
        "id": "poGdV1m8itdj",
        "outputId": "db973109-9d51-42e1-8d98-fbcf46ec45d6"
      },
      "outputs": [
        {
          "data": {
            "text/plain": [
              "(44425, 5)"
            ]
          },
          "execution_count": 205,
          "metadata": {},
          "output_type": "execute_result"
        }
      ],
      "source": [
        "model5.shape"
      ]
    }
  ],
  "metadata": {
    "colab": {
      "provenance": []
    },
    "kernelspec": {
      "display_name": "Python 3",
      "name": "python3"
    },
    "language_info": {
      "codemirror_mode": {
        "name": "ipython",
        "version": 3
      },
      "file_extension": ".py",
      "mimetype": "text/x-python",
      "name": "python",
      "nbconvert_exporter": "python",
      "pygments_lexer": "ipython3",
      "version": "3.12.6"
    }
  },
  "nbformat": 4,
  "nbformat_minor": 0
}
