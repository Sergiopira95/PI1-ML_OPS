{
 "cells": [
  {
   "cell_type": "markdown",
   "metadata": {},
   "source": [
    "## 💻ETL para Movies Dataset 🎥\n",
    "En el siguiente notebook se presentan las transformaciones requeridas para obtener un dataset limpio y confiable el cual va ser cargado a un modelo de recomendación.\n"
   ]
  },
  {
   "cell_type": "markdown",
   "metadata": {},
   "source": [
    "### Importación librerias 📜\n",
    "\n",
    "Las librerias importadas son las necesarias para realizar con exito el proceso ETL, algunas librerias se eligen debido a las caracteristicas del dataset, por ejemplo el modulo **literal_eval** de la libreria **ast** se usa debido a que los datos de algunas columnas vienen como string pero en realidad representan una estructura de datos más compleja como un dict o un list."
   ]
  },
  {
   "cell_type": "code",
   "execution_count": 153,
   "metadata": {},
   "outputs": [],
   "source": [
    "# Importación de librerías requeridas.\n",
    "import numpy as np \n",
    "import pandas as pd\n",
    "from ast import literal_eval # Importamos este modulo para convertir String a Dict y a List.\n",
    "import datetime as dt #Esta libreria nos ayuda a trabajar con los campos de tipo fecha."
   ]
  },
  {
   "cell_type": "markdown",
   "metadata": {},
   "source": [
    "Ahora leemos los datos desde un archivo CSV usando el metodo read_csv que provee pandas. En este paso hay que tener cuidado con la ruta donde se encuentra almacenado el archivos csv, para este caso accedemos de forma local."
   ]
  },
  {
   "cell_type": "code",
   "execution_count": 154,
   "metadata": {},
   "outputs": [],
   "source": [
    "# Usando la función read_csv de Pandas leemos y almacenamos movies_dataset como un dataframe con el nombre movies_data.\n",
    "movies_data = pd.read_csv('../datasets/movies_dataset.csv', low_memory=False)"
   ]
  },
  {
   "cell_type": "markdown",
   "metadata": {},
   "source": [
    "Previsualizamos las 5 primeras filas del dataframe así cómo las 5 últimas."
   ]
  },
  {
   "cell_type": "code",
   "execution_count": 155,
   "metadata": {},
   "outputs": [
    {
     "data": {
      "text/html": [
       "<div>\n",
       "<style scoped>\n",
       "    .dataframe tbody tr th:only-of-type {\n",
       "        vertical-align: middle;\n",
       "    }\n",
       "\n",
       "    .dataframe tbody tr th {\n",
       "        vertical-align: top;\n",
       "    }\n",
       "\n",
       "    .dataframe thead th {\n",
       "        text-align: right;\n",
       "    }\n",
       "</style>\n",
       "<table border=\"1\" class=\"dataframe\">\n",
       "  <thead>\n",
       "    <tr style=\"text-align: right;\">\n",
       "      <th></th>\n",
       "      <th>adult</th>\n",
       "      <th>belongs_to_collection</th>\n",
       "      <th>budget</th>\n",
       "      <th>genres</th>\n",
       "      <th>homepage</th>\n",
       "      <th>id</th>\n",
       "      <th>imdb_id</th>\n",
       "      <th>original_language</th>\n",
       "      <th>original_title</th>\n",
       "      <th>overview</th>\n",
       "      <th>...</th>\n",
       "      <th>release_date</th>\n",
       "      <th>revenue</th>\n",
       "      <th>runtime</th>\n",
       "      <th>spoken_languages</th>\n",
       "      <th>status</th>\n",
       "      <th>tagline</th>\n",
       "      <th>title</th>\n",
       "      <th>video</th>\n",
       "      <th>vote_average</th>\n",
       "      <th>vote_count</th>\n",
       "    </tr>\n",
       "  </thead>\n",
       "  <tbody>\n",
       "    <tr>\n",
       "      <th>0</th>\n",
       "      <td>False</td>\n",
       "      <td>{'id': 10194, 'name': 'Toy Story Collection', ...</td>\n",
       "      <td>30000000</td>\n",
       "      <td>[{'id': 16, 'name': 'Animation'}, {'id': 35, '...</td>\n",
       "      <td>http://toystory.disney.com/toy-story</td>\n",
       "      <td>862</td>\n",
       "      <td>tt0114709</td>\n",
       "      <td>en</td>\n",
       "      <td>Toy Story</td>\n",
       "      <td>Led by Woody, Andy's toys live happily in his ...</td>\n",
       "      <td>...</td>\n",
       "      <td>1995-10-30</td>\n",
       "      <td>373554033.0</td>\n",
       "      <td>81.0</td>\n",
       "      <td>[{'iso_639_1': 'en', 'name': 'English'}]</td>\n",
       "      <td>Released</td>\n",
       "      <td>NaN</td>\n",
       "      <td>Toy Story</td>\n",
       "      <td>False</td>\n",
       "      <td>7.7</td>\n",
       "      <td>5415.0</td>\n",
       "    </tr>\n",
       "    <tr>\n",
       "      <th>1</th>\n",
       "      <td>False</td>\n",
       "      <td>NaN</td>\n",
       "      <td>65000000</td>\n",
       "      <td>[{'id': 12, 'name': 'Adventure'}, {'id': 14, '...</td>\n",
       "      <td>NaN</td>\n",
       "      <td>8844</td>\n",
       "      <td>tt0113497</td>\n",
       "      <td>en</td>\n",
       "      <td>Jumanji</td>\n",
       "      <td>When siblings Judy and Peter discover an encha...</td>\n",
       "      <td>...</td>\n",
       "      <td>1995-12-15</td>\n",
       "      <td>262797249.0</td>\n",
       "      <td>104.0</td>\n",
       "      <td>[{'iso_639_1': 'en', 'name': 'English'}, {'iso...</td>\n",
       "      <td>Released</td>\n",
       "      <td>Roll the dice and unleash the excitement!</td>\n",
       "      <td>Jumanji</td>\n",
       "      <td>False</td>\n",
       "      <td>6.9</td>\n",
       "      <td>2413.0</td>\n",
       "    </tr>\n",
       "    <tr>\n",
       "      <th>2</th>\n",
       "      <td>False</td>\n",
       "      <td>{'id': 119050, 'name': 'Grumpy Old Men Collect...</td>\n",
       "      <td>0</td>\n",
       "      <td>[{'id': 10749, 'name': 'Romance'}, {'id': 35, ...</td>\n",
       "      <td>NaN</td>\n",
       "      <td>15602</td>\n",
       "      <td>tt0113228</td>\n",
       "      <td>en</td>\n",
       "      <td>Grumpier Old Men</td>\n",
       "      <td>A family wedding reignites the ancient feud be...</td>\n",
       "      <td>...</td>\n",
       "      <td>1995-12-22</td>\n",
       "      <td>0.0</td>\n",
       "      <td>101.0</td>\n",
       "      <td>[{'iso_639_1': 'en', 'name': 'English'}]</td>\n",
       "      <td>Released</td>\n",
       "      <td>Still Yelling. Still Fighting. Still Ready for...</td>\n",
       "      <td>Grumpier Old Men</td>\n",
       "      <td>False</td>\n",
       "      <td>6.5</td>\n",
       "      <td>92.0</td>\n",
       "    </tr>\n",
       "    <tr>\n",
       "      <th>3</th>\n",
       "      <td>False</td>\n",
       "      <td>NaN</td>\n",
       "      <td>16000000</td>\n",
       "      <td>[{'id': 35, 'name': 'Comedy'}, {'id': 18, 'nam...</td>\n",
       "      <td>NaN</td>\n",
       "      <td>31357</td>\n",
       "      <td>tt0114885</td>\n",
       "      <td>en</td>\n",
       "      <td>Waiting to Exhale</td>\n",
       "      <td>Cheated on, mistreated and stepped on, the wom...</td>\n",
       "      <td>...</td>\n",
       "      <td>1995-12-22</td>\n",
       "      <td>81452156.0</td>\n",
       "      <td>127.0</td>\n",
       "      <td>[{'iso_639_1': 'en', 'name': 'English'}]</td>\n",
       "      <td>Released</td>\n",
       "      <td>Friends are the people who let you be yourself...</td>\n",
       "      <td>Waiting to Exhale</td>\n",
       "      <td>False</td>\n",
       "      <td>6.1</td>\n",
       "      <td>34.0</td>\n",
       "    </tr>\n",
       "    <tr>\n",
       "      <th>4</th>\n",
       "      <td>False</td>\n",
       "      <td>{'id': 96871, 'name': 'Father of the Bride Col...</td>\n",
       "      <td>0</td>\n",
       "      <td>[{'id': 35, 'name': 'Comedy'}]</td>\n",
       "      <td>NaN</td>\n",
       "      <td>11862</td>\n",
       "      <td>tt0113041</td>\n",
       "      <td>en</td>\n",
       "      <td>Father of the Bride Part II</td>\n",
       "      <td>Just when George Banks has recovered from his ...</td>\n",
       "      <td>...</td>\n",
       "      <td>1995-02-10</td>\n",
       "      <td>76578911.0</td>\n",
       "      <td>106.0</td>\n",
       "      <td>[{'iso_639_1': 'en', 'name': 'English'}]</td>\n",
       "      <td>Released</td>\n",
       "      <td>Just When His World Is Back To Normal... He's ...</td>\n",
       "      <td>Father of the Bride Part II</td>\n",
       "      <td>False</td>\n",
       "      <td>5.7</td>\n",
       "      <td>173.0</td>\n",
       "    </tr>\n",
       "  </tbody>\n",
       "</table>\n",
       "<p>5 rows × 24 columns</p>\n",
       "</div>"
      ],
      "text/plain": [
       "   adult                              belongs_to_collection    budget  \\\n",
       "0  False  {'id': 10194, 'name': 'Toy Story Collection', ...  30000000   \n",
       "1  False                                                NaN  65000000   \n",
       "2  False  {'id': 119050, 'name': 'Grumpy Old Men Collect...         0   \n",
       "3  False                                                NaN  16000000   \n",
       "4  False  {'id': 96871, 'name': 'Father of the Bride Col...         0   \n",
       "\n",
       "                                              genres  \\\n",
       "0  [{'id': 16, 'name': 'Animation'}, {'id': 35, '...   \n",
       "1  [{'id': 12, 'name': 'Adventure'}, {'id': 14, '...   \n",
       "2  [{'id': 10749, 'name': 'Romance'}, {'id': 35, ...   \n",
       "3  [{'id': 35, 'name': 'Comedy'}, {'id': 18, 'nam...   \n",
       "4                     [{'id': 35, 'name': 'Comedy'}]   \n",
       "\n",
       "                               homepage     id    imdb_id original_language  \\\n",
       "0  http://toystory.disney.com/toy-story    862  tt0114709                en   \n",
       "1                                   NaN   8844  tt0113497                en   \n",
       "2                                   NaN  15602  tt0113228                en   \n",
       "3                                   NaN  31357  tt0114885                en   \n",
       "4                                   NaN  11862  tt0113041                en   \n",
       "\n",
       "                original_title  \\\n",
       "0                    Toy Story   \n",
       "1                      Jumanji   \n",
       "2             Grumpier Old Men   \n",
       "3            Waiting to Exhale   \n",
       "4  Father of the Bride Part II   \n",
       "\n",
       "                                            overview  ... release_date  \\\n",
       "0  Led by Woody, Andy's toys live happily in his ...  ...   1995-10-30   \n",
       "1  When siblings Judy and Peter discover an encha...  ...   1995-12-15   \n",
       "2  A family wedding reignites the ancient feud be...  ...   1995-12-22   \n",
       "3  Cheated on, mistreated and stepped on, the wom...  ...   1995-12-22   \n",
       "4  Just when George Banks has recovered from his ...  ...   1995-02-10   \n",
       "\n",
       "       revenue runtime                                   spoken_languages  \\\n",
       "0  373554033.0    81.0           [{'iso_639_1': 'en', 'name': 'English'}]   \n",
       "1  262797249.0   104.0  [{'iso_639_1': 'en', 'name': 'English'}, {'iso...   \n",
       "2          0.0   101.0           [{'iso_639_1': 'en', 'name': 'English'}]   \n",
       "3   81452156.0   127.0           [{'iso_639_1': 'en', 'name': 'English'}]   \n",
       "4   76578911.0   106.0           [{'iso_639_1': 'en', 'name': 'English'}]   \n",
       "\n",
       "     status                                            tagline  \\\n",
       "0  Released                                                NaN   \n",
       "1  Released          Roll the dice and unleash the excitement!   \n",
       "2  Released  Still Yelling. Still Fighting. Still Ready for...   \n",
       "3  Released  Friends are the people who let you be yourself...   \n",
       "4  Released  Just When His World Is Back To Normal... He's ...   \n",
       "\n",
       "                         title  video vote_average vote_count  \n",
       "0                    Toy Story  False          7.7     5415.0  \n",
       "1                      Jumanji  False          6.9     2413.0  \n",
       "2             Grumpier Old Men  False          6.5       92.0  \n",
       "3            Waiting to Exhale  False          6.1       34.0  \n",
       "4  Father of the Bride Part II  False          5.7      173.0  \n",
       "\n",
       "[5 rows x 24 columns]"
      ]
     },
     "execution_count": 155,
     "metadata": {},
     "output_type": "execute_result"
    }
   ],
   "source": [
    "# Con la ayuda del metodo head echamos un vistazo preeliminar al dataframe creado.\n",
    "movies_data.head()"
   ]
  },
  {
   "cell_type": "code",
   "execution_count": 156,
   "metadata": {},
   "outputs": [
    {
     "data": {
      "text/html": [
       "<div>\n",
       "<style scoped>\n",
       "    .dataframe tbody tr th:only-of-type {\n",
       "        vertical-align: middle;\n",
       "    }\n",
       "\n",
       "    .dataframe tbody tr th {\n",
       "        vertical-align: top;\n",
       "    }\n",
       "\n",
       "    .dataframe thead th {\n",
       "        text-align: right;\n",
       "    }\n",
       "</style>\n",
       "<table border=\"1\" class=\"dataframe\">\n",
       "  <thead>\n",
       "    <tr style=\"text-align: right;\">\n",
       "      <th></th>\n",
       "      <th>adult</th>\n",
       "      <th>belongs_to_collection</th>\n",
       "      <th>budget</th>\n",
       "      <th>genres</th>\n",
       "      <th>homepage</th>\n",
       "      <th>id</th>\n",
       "      <th>imdb_id</th>\n",
       "      <th>original_language</th>\n",
       "      <th>original_title</th>\n",
       "      <th>overview</th>\n",
       "      <th>...</th>\n",
       "      <th>release_date</th>\n",
       "      <th>revenue</th>\n",
       "      <th>runtime</th>\n",
       "      <th>spoken_languages</th>\n",
       "      <th>status</th>\n",
       "      <th>tagline</th>\n",
       "      <th>title</th>\n",
       "      <th>video</th>\n",
       "      <th>vote_average</th>\n",
       "      <th>vote_count</th>\n",
       "    </tr>\n",
       "  </thead>\n",
       "  <tbody>\n",
       "    <tr>\n",
       "      <th>45461</th>\n",
       "      <td>False</td>\n",
       "      <td>NaN</td>\n",
       "      <td>0</td>\n",
       "      <td>[{'id': 18, 'name': 'Drama'}, {'id': 10751, 'n...</td>\n",
       "      <td>http://www.imdb.com/title/tt6209470/</td>\n",
       "      <td>439050</td>\n",
       "      <td>tt6209470</td>\n",
       "      <td>fa</td>\n",
       "      <td>رگ خواب</td>\n",
       "      <td>Rising and falling between a man and woman.</td>\n",
       "      <td>...</td>\n",
       "      <td>NaN</td>\n",
       "      <td>0.0</td>\n",
       "      <td>90.0</td>\n",
       "      <td>[{'iso_639_1': 'fa', 'name': 'فارسی'}]</td>\n",
       "      <td>Released</td>\n",
       "      <td>Rising and falling between a man and woman</td>\n",
       "      <td>Subdue</td>\n",
       "      <td>False</td>\n",
       "      <td>4.0</td>\n",
       "      <td>1.0</td>\n",
       "    </tr>\n",
       "    <tr>\n",
       "      <th>45462</th>\n",
       "      <td>False</td>\n",
       "      <td>NaN</td>\n",
       "      <td>0</td>\n",
       "      <td>[{'id': 18, 'name': 'Drama'}]</td>\n",
       "      <td>NaN</td>\n",
       "      <td>111109</td>\n",
       "      <td>tt2028550</td>\n",
       "      <td>tl</td>\n",
       "      <td>Siglo ng Pagluluwal</td>\n",
       "      <td>An artist struggles to finish his work while a...</td>\n",
       "      <td>...</td>\n",
       "      <td>2011-11-17</td>\n",
       "      <td>0.0</td>\n",
       "      <td>360.0</td>\n",
       "      <td>[{'iso_639_1': 'tl', 'name': ''}]</td>\n",
       "      <td>Released</td>\n",
       "      <td>NaN</td>\n",
       "      <td>Century of Birthing</td>\n",
       "      <td>False</td>\n",
       "      <td>9.0</td>\n",
       "      <td>3.0</td>\n",
       "    </tr>\n",
       "    <tr>\n",
       "      <th>45463</th>\n",
       "      <td>False</td>\n",
       "      <td>NaN</td>\n",
       "      <td>0</td>\n",
       "      <td>[{'id': 28, 'name': 'Action'}, {'id': 18, 'nam...</td>\n",
       "      <td>NaN</td>\n",
       "      <td>67758</td>\n",
       "      <td>tt0303758</td>\n",
       "      <td>en</td>\n",
       "      <td>Betrayal</td>\n",
       "      <td>When one of her hits goes wrong, a professiona...</td>\n",
       "      <td>...</td>\n",
       "      <td>2003-08-01</td>\n",
       "      <td>0.0</td>\n",
       "      <td>90.0</td>\n",
       "      <td>[{'iso_639_1': 'en', 'name': 'English'}]</td>\n",
       "      <td>Released</td>\n",
       "      <td>A deadly game of wits.</td>\n",
       "      <td>Betrayal</td>\n",
       "      <td>False</td>\n",
       "      <td>3.8</td>\n",
       "      <td>6.0</td>\n",
       "    </tr>\n",
       "    <tr>\n",
       "      <th>45464</th>\n",
       "      <td>False</td>\n",
       "      <td>NaN</td>\n",
       "      <td>0</td>\n",
       "      <td>[]</td>\n",
       "      <td>NaN</td>\n",
       "      <td>227506</td>\n",
       "      <td>tt0008536</td>\n",
       "      <td>en</td>\n",
       "      <td>Satana likuyushchiy</td>\n",
       "      <td>In a small town live two brothers, one a minis...</td>\n",
       "      <td>...</td>\n",
       "      <td>1917-10-21</td>\n",
       "      <td>0.0</td>\n",
       "      <td>87.0</td>\n",
       "      <td>[]</td>\n",
       "      <td>Released</td>\n",
       "      <td>NaN</td>\n",
       "      <td>Satan Triumphant</td>\n",
       "      <td>False</td>\n",
       "      <td>0.0</td>\n",
       "      <td>0.0</td>\n",
       "    </tr>\n",
       "    <tr>\n",
       "      <th>45465</th>\n",
       "      <td>False</td>\n",
       "      <td>NaN</td>\n",
       "      <td>0</td>\n",
       "      <td>[]</td>\n",
       "      <td>NaN</td>\n",
       "      <td>461257</td>\n",
       "      <td>tt6980792</td>\n",
       "      <td>en</td>\n",
       "      <td>Queerama</td>\n",
       "      <td>50 years after decriminalisation of homosexual...</td>\n",
       "      <td>...</td>\n",
       "      <td>2017-06-09</td>\n",
       "      <td>0.0</td>\n",
       "      <td>75.0</td>\n",
       "      <td>[{'iso_639_1': 'en', 'name': 'English'}]</td>\n",
       "      <td>Released</td>\n",
       "      <td>NaN</td>\n",
       "      <td>Queerama</td>\n",
       "      <td>False</td>\n",
       "      <td>0.0</td>\n",
       "      <td>0.0</td>\n",
       "    </tr>\n",
       "  </tbody>\n",
       "</table>\n",
       "<p>5 rows × 24 columns</p>\n",
       "</div>"
      ],
      "text/plain": [
       "       adult belongs_to_collection budget  \\\n",
       "45461  False                   NaN      0   \n",
       "45462  False                   NaN      0   \n",
       "45463  False                   NaN      0   \n",
       "45464  False                   NaN      0   \n",
       "45465  False                   NaN      0   \n",
       "\n",
       "                                                  genres  \\\n",
       "45461  [{'id': 18, 'name': 'Drama'}, {'id': 10751, 'n...   \n",
       "45462                      [{'id': 18, 'name': 'Drama'}]   \n",
       "45463  [{'id': 28, 'name': 'Action'}, {'id': 18, 'nam...   \n",
       "45464                                                 []   \n",
       "45465                                                 []   \n",
       "\n",
       "                                   homepage      id    imdb_id  \\\n",
       "45461  http://www.imdb.com/title/tt6209470/  439050  tt6209470   \n",
       "45462                                   NaN  111109  tt2028550   \n",
       "45463                                   NaN   67758  tt0303758   \n",
       "45464                                   NaN  227506  tt0008536   \n",
       "45465                                   NaN  461257  tt6980792   \n",
       "\n",
       "      original_language       original_title  \\\n",
       "45461                fa              رگ خواب   \n",
       "45462                tl  Siglo ng Pagluluwal   \n",
       "45463                en             Betrayal   \n",
       "45464                en  Satana likuyushchiy   \n",
       "45465                en             Queerama   \n",
       "\n",
       "                                                overview  ... release_date  \\\n",
       "45461        Rising and falling between a man and woman.  ...          NaN   \n",
       "45462  An artist struggles to finish his work while a...  ...   2011-11-17   \n",
       "45463  When one of her hits goes wrong, a professiona...  ...   2003-08-01   \n",
       "45464  In a small town live two brothers, one a minis...  ...   1917-10-21   \n",
       "45465  50 years after decriminalisation of homosexual...  ...   2017-06-09   \n",
       "\n",
       "      revenue runtime                          spoken_languages    status  \\\n",
       "45461     0.0    90.0    [{'iso_639_1': 'fa', 'name': 'فارسی'}]  Released   \n",
       "45462     0.0   360.0         [{'iso_639_1': 'tl', 'name': ''}]  Released   \n",
       "45463     0.0    90.0  [{'iso_639_1': 'en', 'name': 'English'}]  Released   \n",
       "45464     0.0    87.0                                        []  Released   \n",
       "45465     0.0    75.0  [{'iso_639_1': 'en', 'name': 'English'}]  Released   \n",
       "\n",
       "                                          tagline                title  video  \\\n",
       "45461  Rising and falling between a man and woman               Subdue  False   \n",
       "45462                                         NaN  Century of Birthing  False   \n",
       "45463                      A deadly game of wits.             Betrayal  False   \n",
       "45464                                         NaN     Satan Triumphant  False   \n",
       "45465                                         NaN             Queerama  False   \n",
       "\n",
       "      vote_average vote_count  \n",
       "45461          4.0        1.0  \n",
       "45462          9.0        3.0  \n",
       "45463          3.8        6.0  \n",
       "45464          0.0        0.0  \n",
       "45465          0.0        0.0  \n",
       "\n",
       "[5 rows x 24 columns]"
      ]
     },
     "execution_count": 156,
     "metadata": {},
     "output_type": "execute_result"
    }
   ],
   "source": [
    "# Con la ayuda del metodo tail echamos un vistazo preeliminar al dataframe creado.\n",
    "movies_data.tail()"
   ]
  },
  {
   "cell_type": "markdown",
   "metadata": {},
   "source": [
    "Con el metodo info() echamos un vistazo al dataset completo."
   ]
  },
  {
   "cell_type": "code",
   "execution_count": 157,
   "metadata": {},
   "outputs": [
    {
     "name": "stdout",
     "output_type": "stream",
     "text": [
      "<class 'pandas.core.frame.DataFrame'>\n",
      "RangeIndex: 45466 entries, 0 to 45465\n",
      "Data columns (total 24 columns):\n",
      " #   Column                 Non-Null Count  Dtype  \n",
      "---  ------                 --------------  -----  \n",
      " 0   adult                  45466 non-null  object \n",
      " 1   belongs_to_collection  4494 non-null   object \n",
      " 2   budget                 45466 non-null  object \n",
      " 3   genres                 45466 non-null  object \n",
      " 4   homepage               7782 non-null   object \n",
      " 5   id                     45466 non-null  object \n",
      " 6   imdb_id                45449 non-null  object \n",
      " 7   original_language      45455 non-null  object \n",
      " 8   original_title         45466 non-null  object \n",
      " 9   overview               44512 non-null  object \n",
      " 10  popularity             45461 non-null  object \n",
      " 11  poster_path            45080 non-null  object \n",
      " 12  production_companies   45463 non-null  object \n",
      " 13  production_countries   45463 non-null  object \n",
      " 14  release_date           45379 non-null  object \n",
      " 15  revenue                45460 non-null  float64\n",
      " 16  runtime                45203 non-null  float64\n",
      " 17  spoken_languages       45460 non-null  object \n",
      " 18  status                 45379 non-null  object \n",
      " 19  tagline                20412 non-null  object \n",
      " 20  title                  45460 non-null  object \n",
      " 21  video                  45460 non-null  object \n",
      " 22  vote_average           45460 non-null  float64\n",
      " 23  vote_count             45460 non-null  float64\n",
      "dtypes: float64(4), object(20)\n",
      "memory usage: 8.3+ MB\n"
     ]
    }
   ],
   "source": [
    "movies_data.info()"
   ]
  },
  {
   "cell_type": "markdown",
   "metadata": {},
   "source": [
    "En este punto he tomado la decisión de eliminar las columnas que no aportan información valiosa, en realidad esta decisión tiene sus bases en los requerimientos de más adelante especialmente en el procesamiento de los datos para las funciones y el modelo ML, pero deciso hacerlo de una vez para ir ahorrando procesamiento cuando se ejecuten las transfomaciones siguientes."
   ]
  },
  {
   "cell_type": "code",
   "execution_count": 158,
   "metadata": {},
   "outputs": [],
   "source": [
    "# Usando el metodo drop de Pandas borramos las columnas que se consideran inescesarias, se adiciona la opcion inplace=True para que los cambios se reflejen en el mismo dataframe.\n",
    "movies_data.drop(columns=['video','imdb_id', 'adult', 'original_title', 'poster_path', 'homepage'], inplace=True)\n"
   ]
  },
  {
   "cell_type": "markdown",
   "metadata": {},
   "source": [
    "### Valores Nulos🗑️\n",
    "Una de las transformaciones solicitadas, adicional que hace parte fundamental de los ciclos ETL, es el manejo de datos nulos, para nuestro caso debemos cumplir los siguientes criterios:\n",
    "* Los valores nulos de los campos revenue, budget deben ser rellenados por el número 0.\n",
    "* Los valores nulos del campo release date deben eliminarse.\n",
    "\n",
    "Estas transformaciones se llevan a cabo con el uso de funciones contenidas en pandas especificamente fillna() y dropna().\n"
   ]
  },
  {
   "cell_type": "code",
   "execution_count": 159,
   "metadata": {},
   "outputs": [],
   "source": [
    "movies_data['revenue'] = movies_data['revenue'].fillna(0)\n",
    "movies_data['budget'] = movies_data['budget'].fillna(0)\n",
    "movies_data['release_date'].dropna(inplace=True)"
   ]
  },
  {
   "cell_type": "markdown",
   "metadata": {},
   "source": [
    "### Desanidando 🐦\n",
    "\n",
    "Se procede a desanidar los campos de las columnas 'belongs_to_collection', 'genres', 'production_companies', 'production_countries' y 'spoken_languages'. El metodo usado es el resultado de varios pruebas realizadas con anterioridad para determinar cual es el mejor, inicialmente durante la exploración preeliminar se evidencia que los datos anidados vienen en tipo **str** y con el modulo **literal_eval** de la libreria **ast** se logra convertir a la forma ya sea **dict** o **list**, posteriormente se procede a desanidar y almacenar en dataframes independientes usando el modulo **Series** de Pandas, este metodo se elige ya que se debe cumplir con rapidez con la tarea asignada y no vamos a reinventar la rueda, simplemente usamos lo que ya existe."
   ]
  },
  {
   "cell_type": "code",
   "execution_count": 160,
   "metadata": {},
   "outputs": [
    {
     "name": "stdout",
     "output_type": "stream",
     "text": [
      "{'id': 119050, 'name': 'Grumpy Old Men Collection', 'poster_path': '/nLvUdqgPgm3F85NMCii9gVFUcet.jpg', 'backdrop_path': '/hypTnLot2z8wpFS7qwsQHW1uV8u.jpg'}\n",
      "[{'id': 10749, 'name': 'Romance'}, {'id': 35, 'name': 'Comedy'}]\n",
      "[{'name': 'Warner Bros.', 'id': 6194}, {'name': 'Lancaster Gate', 'id': 19464}]\n",
      "[{'iso_3166_1': 'US', 'name': 'United States of America'}]\n",
      "[{'iso_639_1': 'en', 'name': 'English'}]\n",
      "<class 'str'>\n",
      "<class 'str'>\n",
      "<class 'str'>\n",
      "<class 'str'>\n",
      "<class 'str'>\n"
     ]
    }
   ],
   "source": [
    "# Imprimimos el tipo un campo para cada columna que dice el diccionario de datos que están anidados para visualizar su estructura, luego imprimimos el typo de dato para evidenciar cómo viene formateado.\n",
    "print(movies_data['belongs_to_collection'][2])\n",
    "print(movies_data['genres'][2])\n",
    "print(movies_data['production_companies'][2])\n",
    "print(movies_data['production_countries'][2])\n",
    "print(movies_data['spoken_languages'][2])\n",
    "\n",
    "print(type(movies_data['belongs_to_collection'][2]))\n",
    "print(type(movies_data['genres'][2]))\n",
    "print(type(movies_data['production_companies'][2]))\n",
    "print(type(movies_data['production_countries'][2]))\n",
    "print(type(movies_data['spoken_languages'][2]))"
   ]
  },
  {
   "cell_type": "code",
   "execution_count": 161,
   "metadata": {},
   "outputs": [],
   "source": [
    "'''Aplicamos una función Lambda a cada columna que viene anidada, dentro de la función lambda se aplica a cada campo la funcion\n",
    "literal_eval para que trasnforme el string en su estrucutura adecuada ya sea dict o list, en el caso de encontrar un valor nulo se reemplaza con np.nanksk'''\n",
    "\n",
    "movies_data['belongs_to_collection'] = movies_data['belongs_to_collection'].apply(lambda x: literal_eval(x) if pd.notna(x) else np.nan)\n",
    "movies_data['genres'] = movies_data['genres'].apply(lambda x: literal_eval(x) if pd.notna(x) else np.nan)\n",
    "movies_data['production_companies'] = movies_data['production_companies'].apply(lambda x: literal_eval(x) if pd.notna(x) else np.nan)\n",
    "movies_data['production_countries'] = movies_data['production_countries'].apply(lambda x: literal_eval(x) if pd.notna(x) else np.nan)\n",
    "movies_data['spoken_languages'] = movies_data['spoken_languages'].apply(lambda x: literal_eval(x) if pd.notna(x) else np.nan)"
   ]
  },
  {
   "cell_type": "markdown",
   "metadata": {},
   "source": [
    "### Belongs to collection 📚\n",
    "\n",
    "Para esta columna se evidencia que es un dict anidado por lo tanto vamos a aplicar el metodo **pd.series()**, existen otras herramientas cómo **json_normalize** pero requieren descargar otra librería así que por uso de memoria se descarta esa opción."
   ]
  },
  {
   "cell_type": "code",
   "execution_count": 162,
   "metadata": {},
   "outputs": [
    {
     "name": "stdout",
     "output_type": "stream",
     "text": [
      "Index(['id', 'name', 'poster_path', 'backdrop_path', 0], dtype='object')\n",
      "        id                  name                       poster_path  \\\n",
      "0  10194.0  Toy Story Collection  /7G9915LfUQ2lVfwMEEhDsn3kT4B.jpg   \n",
      "1      NaN                   NaN                               NaN   \n",
      "\n",
      "                      backdrop_path   0  \n",
      "0  /9FBwqcd9IRruEDUrTdcaafOMKUq.jpg NaN  \n",
      "1                               NaN NaN  \n"
     ]
    }
   ],
   "source": [
    "# Vamos a aplicar el método pd.series() y vamos a revisar que columnas genera, la serie generada se almacena en una variable independiente.\n",
    "belongs_to_collection_df = movies_data['belongs_to_collection'].apply(pd.Series)\n",
    "\n",
    "#Imprimimos las columnas y un campo para revisar que información es relevante\n",
    "print(belongs_to_collection_df.columns)\n",
    "print(belongs_to_collection_df[:2])"
   ]
  },
  {
   "cell_type": "markdown",
   "metadata": {},
   "source": [
    "Para este punto se decide conservar sólo la columna 'name' ya que representa un match con alguna secuela o precuela y esa información podría ser relevamte en un sistema de recomendación. Adicionalmente se renombra esa columna para que se diferencie dentrodel data set completo ya que posteriormente procederemos a añadir dicha columna, despues de haber eliminado la original columna 'belongs_to_collection'."
   ]
  },
  {
   "cell_type": "code",
   "execution_count": 163,
   "metadata": {},
   "outputs": [],
   "source": [
    "# se usa el metodo drop de pandas para eliminar las columnas no deseadas\n",
    "belongs_to_collection_df.drop(columns=[0,'id',  'poster_path', 'backdrop_path'], inplace=True)\n",
    "# Renombrar la columna name con el metodo rename y la pasamos de 'name' a 'collection_name'.\n",
    "belongs_to_collection_serie = belongs_to_collection_df.rename(columns = {'name' : 'collection_name'})\n",
    "# Eliminar la columna 'belonngs_to_collection' de movies_data y añadimos la nueva columna 'collction_name'\n",
    "movies_data.drop('belongs_to_collection', axis=1, inplace=True)\n",
    "movies_data = pd.concat([movies_data, belongs_to_collection_df], axis=1)\n"
   ]
  },
  {
   "cell_type": "markdown",
   "metadata": {},
   "source": [
    "### Genres 🧟‍♂️\n",
    "\n",
    "En la exploración inicial y en el diccionario de los datos nos muestran que la columna 'genres' viene como una lista de diccionarios ya que una pelicula puede ser clasificada dentro de varios generos, para proceder a desanidarlo lo primero que se realiza es guardar dentro de una variable independiente las columnas generadas al aplicar el metodo explode el  cual nos ayuda a sacar cada elemento de la lista de diccionarios y los almacena en un dataframe, despues aplicamos a ese diccionario el metodo Series como lo hicimos en el caso anterior de 'belongs_to_collection'"
   ]
  },
  {
   "cell_type": "code",
   "execution_count": 164,
   "metadata": {},
   "outputs": [
    {
     "data": {
      "text/html": [
       "<div>\n",
       "<style scoped>\n",
       "    .dataframe tbody tr th:only-of-type {\n",
       "        vertical-align: middle;\n",
       "    }\n",
       "\n",
       "    .dataframe tbody tr th {\n",
       "        vertical-align: top;\n",
       "    }\n",
       "\n",
       "    .dataframe thead th {\n",
       "        text-align: right;\n",
       "    }\n",
       "</style>\n",
       "<table border=\"1\" class=\"dataframe\">\n",
       "  <thead>\n",
       "    <tr style=\"text-align: right;\">\n",
       "      <th></th>\n",
       "      <th>id</th>\n",
       "      <th>name</th>\n",
       "      <th>0</th>\n",
       "    </tr>\n",
       "  </thead>\n",
       "  <tbody>\n",
       "    <tr>\n",
       "      <th>0</th>\n",
       "      <td>16.0</td>\n",
       "      <td>Animation</td>\n",
       "      <td>NaN</td>\n",
       "    </tr>\n",
       "    <tr>\n",
       "      <th>0</th>\n",
       "      <td>35.0</td>\n",
       "      <td>Comedy</td>\n",
       "      <td>NaN</td>\n",
       "    </tr>\n",
       "    <tr>\n",
       "      <th>0</th>\n",
       "      <td>10751.0</td>\n",
       "      <td>Family</td>\n",
       "      <td>NaN</td>\n",
       "    </tr>\n",
       "    <tr>\n",
       "      <th>1</th>\n",
       "      <td>12.0</td>\n",
       "      <td>Adventure</td>\n",
       "      <td>NaN</td>\n",
       "    </tr>\n",
       "    <tr>\n",
       "      <th>1</th>\n",
       "      <td>14.0</td>\n",
       "      <td>Fantasy</td>\n",
       "      <td>NaN</td>\n",
       "    </tr>\n",
       "  </tbody>\n",
       "</table>\n",
       "</div>"
      ],
      "text/plain": [
       "        id       name   0\n",
       "0     16.0  Animation NaN\n",
       "0     35.0     Comedy NaN\n",
       "0  10751.0     Family NaN\n",
       "1     12.0  Adventure NaN\n",
       "1     14.0    Fantasy NaN"
      ]
     },
     "execution_count": 164,
     "metadata": {},
     "output_type": "execute_result"
    }
   ],
   "source": [
    "#Con el metodo explode() se transforma el dato anidado\n",
    "genres_df = movies_data['genres'].explode().apply(pd.Series)\n",
    "genres_df.head()"
   ]
  },
  {
   "cell_type": "markdown",
   "metadata": {},
   "source": [
    "Ahora vamos a revisar cuales columnas fueron geeneradas para tomar la determinación de cuales podemos conservar."
   ]
  },
  {
   "cell_type": "code",
   "execution_count": 165,
   "metadata": {},
   "outputs": [
    {
     "data": {
      "text/plain": [
       "Index(['id', 'name', 0], dtype='object')"
      ]
     },
     "execution_count": 165,
     "metadata": {},
     "output_type": "execute_result"
    }
   ],
   "source": [
    "#Imprimimos las columnas del dataframe creado\n",
    "genres_df.columns"
   ]
  },
  {
   "cell_type": "markdown",
   "metadata": {},
   "source": [
    "Simplemente se va a conservar la columna name al igual que en el anterior proceso, adicional vamos a proceder con la agrupación de los diferentes generos para cada pelicula, esto se hace aprovechando que  el dataframe conserva el index original extraido al aplicar el metodo Series. Para ello hacemos uso de los metodos join y astype aplicados al dataframe mediante una función lambda, al final se debe resetear el index debido a la caracteristica antes mencionada. el metodo groupby nos ayuda a la agrupación. Como en el caso anterior se renombra la columna para poder unirla al dataset grande."
   ]
  },
  {
   "cell_type": "code",
   "execution_count": 166,
   "metadata": {},
   "outputs": [],
   "source": [
    "#Eliminar columnas 0 e Id\n",
    "genres_df.drop(columns=[0, 'id'], inplace=True)\n",
    "#Agrupar los generos por el índice original y concatenar los valoresde la columna 'name' en una cadena separada por comas.\n",
    "genres_df = genres_df.groupby(genres_df.index)['name'].apply(lambda x: ','.join(x.astype(str))).reset_index()\n",
    "#renombrar columna 'name' por 'genres'\n",
    "genres_df = genres_df.rename(columns = {'name' : 'genres'})\n",
    "#almacenar sin el indice\n",
    "genres_df = genres_df[['genres']]\n",
    "# Eliminar la columna original 'genres' de movies_data\n",
    "movies_data.drop('genres', axis=1, inplace=True)\n",
    "# Concatenar la nueva columna con el DataFrame original\n",
    "movies_data = pd.concat([movies_data, genres_df], axis=1)"
   ]
  },
  {
   "cell_type": "markdown",
   "metadata": {},
   "source": [
    "### Production Companies 🎬\n",
    "\n",
    "Se procede de la misma manera que en el caso anterior ya que se tiene una lista de diccionarios."
   ]
  },
  {
   "cell_type": "code",
   "execution_count": 167,
   "metadata": {},
   "outputs": [
    {
     "data": {
      "text/html": [
       "<div>\n",
       "<style scoped>\n",
       "    .dataframe tbody tr th:only-of-type {\n",
       "        vertical-align: middle;\n",
       "    }\n",
       "\n",
       "    .dataframe tbody tr th {\n",
       "        vertical-align: top;\n",
       "    }\n",
       "\n",
       "    .dataframe thead th {\n",
       "        text-align: right;\n",
       "    }\n",
       "</style>\n",
       "<table border=\"1\" class=\"dataframe\">\n",
       "  <thead>\n",
       "    <tr style=\"text-align: right;\">\n",
       "      <th></th>\n",
       "      <th>name</th>\n",
       "      <th>id</th>\n",
       "      <th>0</th>\n",
       "    </tr>\n",
       "  </thead>\n",
       "  <tbody>\n",
       "    <tr>\n",
       "      <th>0</th>\n",
       "      <td>Pixar Animation Studios</td>\n",
       "      <td>3.0</td>\n",
       "      <td>NaN</td>\n",
       "    </tr>\n",
       "    <tr>\n",
       "      <th>1</th>\n",
       "      <td>TriStar Pictures</td>\n",
       "      <td>559.0</td>\n",
       "      <td>NaN</td>\n",
       "    </tr>\n",
       "    <tr>\n",
       "      <th>1</th>\n",
       "      <td>Teitler Film</td>\n",
       "      <td>2550.0</td>\n",
       "      <td>NaN</td>\n",
       "    </tr>\n",
       "    <tr>\n",
       "      <th>1</th>\n",
       "      <td>Interscope Communications</td>\n",
       "      <td>10201.0</td>\n",
       "      <td>NaN</td>\n",
       "    </tr>\n",
       "    <tr>\n",
       "      <th>2</th>\n",
       "      <td>Warner Bros.</td>\n",
       "      <td>6194.0</td>\n",
       "      <td>NaN</td>\n",
       "    </tr>\n",
       "  </tbody>\n",
       "</table>\n",
       "</div>"
      ],
      "text/plain": [
       "                        name       id    0\n",
       "0    Pixar Animation Studios      3.0  NaN\n",
       "1           TriStar Pictures    559.0  NaN\n",
       "1               Teitler Film   2550.0  NaN\n",
       "1  Interscope Communications  10201.0  NaN\n",
       "2               Warner Bros.   6194.0  NaN"
      ]
     },
     "execution_count": 167,
     "metadata": {},
     "output_type": "execute_result"
    }
   ],
   "source": [
    "#Con el metodo explode() se transforma el dato anidado\n",
    "production_companies_df = movies_data['production_companies'].explode().apply(pd.Series)\n",
    "production_companies_df.head()"
   ]
  },
  {
   "cell_type": "code",
   "execution_count": 168,
   "metadata": {},
   "outputs": [
    {
     "data": {
      "text/plain": [
       "Index(['name', 'id', 0], dtype='object')"
      ]
     },
     "execution_count": 168,
     "metadata": {},
     "output_type": "execute_result"
    }
   ],
   "source": [
    "#Imprimimos las columnas del dataframe creado\n",
    "production_companies_df.columns"
   ]
  },
  {
   "cell_type": "markdown",
   "metadata": {},
   "source": [
    "Nuevamente dejamos solo la columna 'name'"
   ]
  },
  {
   "cell_type": "code",
   "execution_count": 169,
   "metadata": {},
   "outputs": [],
   "source": [
    "#Eliminar columnas 0 e Id\n",
    "production_companies_df.drop(columns=[0, 'id'], inplace=True)\n",
    "#Agrupar los generos por el índice original y concatenar los valoresde la columna 'name' en una cadena separada por comas.\n",
    "production_companies_df = production_companies_df.groupby(production_companies_df.index)['name'].apply(lambda x: ','.join(x.astype(str))).reset_index()\n",
    "#renombrar columna 'name' por 'production_companies'\n",
    "production_companies_df = production_companies_df.rename(columns = {'name' : 'production_companies'})\n",
    "#almacenar sin el indice\n",
    "production_companies_df = production_companies_df[['production_companies']]\n",
    "# Eliminar la columna original 'production_companies' de movies_data\n",
    "movies_data.drop('production_companies', axis=1, inplace=True)\n",
    "# Concatenar la nueva columna con el DataFrame original\n",
    "movies_data = pd.concat([movies_data, production_companies_df], axis=1)"
   ]
  },
  {
   "cell_type": "markdown",
   "metadata": {},
   "source": [
    "### Production Countries 🗺️\n",
    "\n",
    "Nuevamente se usa el metodo anterior ya que esta columna presenta la misma estructura de anidación."
   ]
  },
  {
   "cell_type": "code",
   "execution_count": 170,
   "metadata": {},
   "outputs": [
    {
     "data": {
      "text/html": [
       "<div>\n",
       "<style scoped>\n",
       "    .dataframe tbody tr th:only-of-type {\n",
       "        vertical-align: middle;\n",
       "    }\n",
       "\n",
       "    .dataframe tbody tr th {\n",
       "        vertical-align: top;\n",
       "    }\n",
       "\n",
       "    .dataframe thead th {\n",
       "        text-align: right;\n",
       "    }\n",
       "</style>\n",
       "<table border=\"1\" class=\"dataframe\">\n",
       "  <thead>\n",
       "    <tr style=\"text-align: right;\">\n",
       "      <th></th>\n",
       "      <th>iso_3166_1</th>\n",
       "      <th>name</th>\n",
       "      <th>0</th>\n",
       "    </tr>\n",
       "  </thead>\n",
       "  <tbody>\n",
       "    <tr>\n",
       "      <th>0</th>\n",
       "      <td>US</td>\n",
       "      <td>United States of America</td>\n",
       "      <td>NaN</td>\n",
       "    </tr>\n",
       "    <tr>\n",
       "      <th>1</th>\n",
       "      <td>US</td>\n",
       "      <td>United States of America</td>\n",
       "      <td>NaN</td>\n",
       "    </tr>\n",
       "    <tr>\n",
       "      <th>2</th>\n",
       "      <td>US</td>\n",
       "      <td>United States of America</td>\n",
       "      <td>NaN</td>\n",
       "    </tr>\n",
       "    <tr>\n",
       "      <th>3</th>\n",
       "      <td>US</td>\n",
       "      <td>United States of America</td>\n",
       "      <td>NaN</td>\n",
       "    </tr>\n",
       "    <tr>\n",
       "      <th>4</th>\n",
       "      <td>US</td>\n",
       "      <td>United States of America</td>\n",
       "      <td>NaN</td>\n",
       "    </tr>\n",
       "  </tbody>\n",
       "</table>\n",
       "</div>"
      ],
      "text/plain": [
       "  iso_3166_1                      name   0\n",
       "0         US  United States of America NaN\n",
       "1         US  United States of America NaN\n",
       "2         US  United States of America NaN\n",
       "3         US  United States of America NaN\n",
       "4         US  United States of America NaN"
      ]
     },
     "execution_count": 170,
     "metadata": {},
     "output_type": "execute_result"
    }
   ],
   "source": [
    "#Con el metodo explode() se transforma el dato anidado\n",
    "production_countries_df = movies_data['production_countries'].explode().apply(pd.Series)\n",
    "production_countries_df.head()"
   ]
  },
  {
   "cell_type": "code",
   "execution_count": 171,
   "metadata": {},
   "outputs": [
    {
     "data": {
      "text/plain": [
       "Index(['iso_3166_1', 'name', 0], dtype='object')"
      ]
     },
     "execution_count": 171,
     "metadata": {},
     "output_type": "execute_result"
    }
   ],
   "source": [
    "#Imprimimos las columnas del dataframe creado\n",
    "production_countries_df.columns"
   ]
  },
  {
   "cell_type": "code",
   "execution_count": 172,
   "metadata": {},
   "outputs": [],
   "source": [
    "#Eliminar columnas 0 e 'iso_3166_1'\n",
    "production_countries_df.drop(columns=[0, 'iso_3166_1'], inplace=True)\n",
    "#Agrupar los generos por el índice original y concatenar los valoresde la columna 'name' en una cadena separada por comas.\n",
    "production_countries_df = production_countries_df.groupby(production_countries_df.index)['name'].apply(lambda x: ','.join(x.astype(str))).reset_index()\n",
    "#renombrar columna 'name' por 'production_countries'\n",
    "production_countries_df = production_countries_df.rename(columns = {'name' : 'production_countries'})\n",
    "#almacenar sin el indice\n",
    "production_countries_df = production_countries_df[['production_countries']]\n",
    "# Eliminar la columna original 'production_countries' de movies_data\n",
    "movies_data.drop('production_countries', axis=1, inplace=True)\n",
    "# Concatenar la nueva columna con el DataFrame original\n",
    "movies_data = pd.concat([movies_data, production_countries_df], axis=1)"
   ]
  },
  {
   "cell_type": "markdown",
   "metadata": {},
   "source": [
    "### Spoken Languages 🎌\n",
    "Nuevamente se usa el metodo anterior ya que esta columna presenta la misma estructura de anidación."
   ]
  },
  {
   "cell_type": "code",
   "execution_count": 173,
   "metadata": {},
   "outputs": [
    {
     "data": {
      "text/html": [
       "<div>\n",
       "<style scoped>\n",
       "    .dataframe tbody tr th:only-of-type {\n",
       "        vertical-align: middle;\n",
       "    }\n",
       "\n",
       "    .dataframe tbody tr th {\n",
       "        vertical-align: top;\n",
       "    }\n",
       "\n",
       "    .dataframe thead th {\n",
       "        text-align: right;\n",
       "    }\n",
       "</style>\n",
       "<table border=\"1\" class=\"dataframe\">\n",
       "  <thead>\n",
       "    <tr style=\"text-align: right;\">\n",
       "      <th></th>\n",
       "      <th>iso_639_1</th>\n",
       "      <th>name</th>\n",
       "      <th>0</th>\n",
       "    </tr>\n",
       "  </thead>\n",
       "  <tbody>\n",
       "    <tr>\n",
       "      <th>0</th>\n",
       "      <td>en</td>\n",
       "      <td>English</td>\n",
       "      <td>NaN</td>\n",
       "    </tr>\n",
       "    <tr>\n",
       "      <th>1</th>\n",
       "      <td>en</td>\n",
       "      <td>English</td>\n",
       "      <td>NaN</td>\n",
       "    </tr>\n",
       "    <tr>\n",
       "      <th>1</th>\n",
       "      <td>fr</td>\n",
       "      <td>Français</td>\n",
       "      <td>NaN</td>\n",
       "    </tr>\n",
       "    <tr>\n",
       "      <th>2</th>\n",
       "      <td>en</td>\n",
       "      <td>English</td>\n",
       "      <td>NaN</td>\n",
       "    </tr>\n",
       "    <tr>\n",
       "      <th>3</th>\n",
       "      <td>en</td>\n",
       "      <td>English</td>\n",
       "      <td>NaN</td>\n",
       "    </tr>\n",
       "  </tbody>\n",
       "</table>\n",
       "</div>"
      ],
      "text/plain": [
       "  iso_639_1      name   0\n",
       "0        en   English NaN\n",
       "1        en   English NaN\n",
       "1        fr  Français NaN\n",
       "2        en   English NaN\n",
       "3        en   English NaN"
      ]
     },
     "execution_count": 173,
     "metadata": {},
     "output_type": "execute_result"
    }
   ],
   "source": [
    "#Con el metodo explode() se transforma el dato anidado\n",
    "spoken_languages_df = movies_data['spoken_languages'].explode().apply(pd.Series)\n",
    "spoken_languages_df.head()"
   ]
  },
  {
   "cell_type": "code",
   "execution_count": 174,
   "metadata": {},
   "outputs": [],
   "source": [
    "#Eliminar columnas 0 e 'iso_639_1'\n",
    "spoken_languages_df.drop(columns=[0, 'iso_639_1'], inplace=True)\n",
    "#Agrupar los generos por el índice original y concatenar los valoresde la columna 'name' en una cadena separada por comas.\n",
    "spoken_languages_df = spoken_languages_df.groupby(spoken_languages_df.index)['name'].apply(lambda x: ','.join(x.astype(str))).reset_index()\n",
    "#renombrar columna 'name' por 'spoken_languages'\n",
    "spoken_languages_df = spoken_languages_df.rename(columns = {'name' : 'spoken_languages'})\n",
    "#almacenar sin el indice\n",
    "spoken_languages_df = spoken_languages_df[['spoken_languages']]\n",
    "# Eliminar la columna original 'spoken_languages' de movies_data\n",
    "movies_data.drop('spoken_languages', axis=1, inplace=True)\n",
    "# Concatenar la nueva columna con el DataFrame original\n",
    "movies_data = pd.concat([movies_data, spoken_languages_df], axis=1)"
   ]
  },
  {
   "cell_type": "markdown",
   "metadata": {},
   "source": [
    "### Creando la columna return 💰\n",
    "\n",
    "En este punto se agrega una columna llamada **return** la cual se calcula con los campos **revenue** y **budget**, dividiendo estas dos últimas **revenue / budget**, cuando no hay datos disponibles para calcularlo, deberá tomar el valor 0. En una celda anterior cuando revisamos el tipo de dato de cada columna nos damos cuenta que la columna budget es de tipo object, por lo tanto debemos formatearla antes de proceder, adicional despues de algunas pruebas se evidencia que este campo trae información que no corresponde a un valor numerico represntado con string por lo tanto se usa una función lambda para remplazar esos valores por un '0', usando expresiones regulares ya que durante las pruebas se evidencia que el valor que trae es algo como '/ff9qCepilowshEtG2GYWwzt2bs4.jpg'"
   ]
  },
  {
   "cell_type": "code",
   "execution_count": 175,
   "metadata": {},
   "outputs": [],
   "source": [
    "movies_data['budget'] = movies_data['budget'].str.replace(r'/[a-zA-Z0-9]+\\.jpg', '0', regex=True)\n",
    "movies_data['budget'] = movies_data['budget'].apply(lambda x: literal_eval(x) if pd.notna(x) else np.nan)\n",
    "movies_data['return'] = movies_data.apply(lambda row: row['revenue'] / row['budget'] if row['budget'] != 0 else 0, axis=1)"
   ]
  },
  {
   "cell_type": "markdown",
   "metadata": {},
   "source": [
    "Revisamos la nueva columna creada"
   ]
  },
  {
   "cell_type": "code",
   "execution_count": 176,
   "metadata": {},
   "outputs": [
    {
     "name": "stdout",
     "output_type": "stream",
     "text": [
      "<class 'pandas.core.series.Series'>\n",
      "RangeIndex: 45466 entries, 0 to 45465\n",
      "Series name: return\n",
      "Non-Null Count  Dtype  \n",
      "--------------  -----  \n",
      "45466 non-null  float64\n",
      "dtypes: float64(1)\n",
      "memory usage: 355.3 KB\n",
      "None\n"
     ]
    },
    {
     "data": {
      "text/plain": [
       "0    12.451801\n",
       "1     4.043035\n",
       "2     0.000000\n",
       "3     5.090760\n",
       "4     0.000000\n",
       "Name: return, dtype: float64"
      ]
     },
     "execution_count": 176,
     "metadata": {},
     "output_type": "execute_result"
    }
   ],
   "source": [
    "print(movies_data['return'].info())\n",
    "movies_data['return'].head()"
   ]
  },
  {
   "cell_type": "markdown",
   "metadata": {},
   "source": [
    "### Transformando las fechas 📆\n",
    "\n",
    "En esta transformación lo que se requiere es lo siguiente:\n",
    "De haber fechas, deberán tener el formato **AAAA-mm-dd**, además deberán crear la columna **release_year** donde extraerán el año de la fecha de estreno.\n",
    "Para llevar a cabo esta transformación requerimos el uso de la libreria **datetime**"
   ]
  },
  {
   "cell_type": "code",
   "execution_count": 177,
   "metadata": {},
   "outputs": [
    {
     "name": "stdout",
     "output_type": "stream",
     "text": [
      "<class 'str'>\n"
     ]
    }
   ],
   "source": [
    "#Primero inspeccionamos el tipo de dato en el que viene formateado el campo 'release_date'\n",
    "print(type(movies_data['release_date'][1]))"
   ]
  },
  {
   "cell_type": "code",
   "execution_count": 178,
   "metadata": {},
   "outputs": [],
   "source": [
    "#con el metodo to_datetime de pandas transformamos la str a datetype\n",
    "movies_data['release_date'] = pd.to_datetime(movies_data['release_date'], errors='coerce' )\n",
    "#Eliminamos nulos\n",
    "movies_data = movies_data.dropna(subset=['release_date'])\n",
    "#Para extraer el año se usa la función year de la libreria datetime\n",
    "movies_data['release_year'] = movies_data['release_date'].dt.year.astype('int32')"
   ]
  },
  {
   "cell_type": "markdown",
   "metadata": {},
   "source": [
    "### Manejo de datos duplicados 🧱\n",
    "\n",
    "Dentro de los procesos ETL es de vital importancia la revisión de data duplicada debido a que esta puede introducir sesgos cuando el dataset final sea cargado para el analisis de algun modelo de ML, por eso y por otras razones dentro de este ETL se realiza este paso como paso final de este ETL y se espera que así de esa forma nuestro modelo de ML tenga una calidad de datos de alimentación muy buena. Dentro de las miles de utilidades de Pandas encontramos df.drop_duplicates() el cual elimina los duplicados, conservando la primera aparición de cada fila especificada dentro de subset."
   ]
  },
  {
   "cell_type": "code",
   "execution_count": 179,
   "metadata": {},
   "outputs": [],
   "source": [
    "movies_data = movies_data.drop_duplicates(subset=['id'])"
   ]
  },
  {
   "cell_type": "markdown",
   "metadata": {},
   "source": [
    "Como ultima medida se debe convertir los datos de la columna 'id' a int ya que estan como str, y al final cuando se unan los dos datasets para alimentar al modelo y a la API será cpn este atributo con el que se haga ese join."
   ]
  },
  {
   "cell_type": "code",
   "execution_count": 180,
   "metadata": {},
   "outputs": [],
   "source": [
    "movies_data['id'] = movies_data['id'].astype(int)"
   ]
  },
  {
   "cell_type": "code",
   "execution_count": 181,
   "metadata": {},
   "outputs": [
    {
     "name": "stdout",
     "output_type": "stream",
     "text": [
      "<class 'pandas.core.frame.DataFrame'>\n",
      "Index: 45346 entries, 0 to 45465\n",
      "Data columns (total 20 columns):\n",
      " #   Column                Non-Null Count  Dtype         \n",
      "---  ------                --------------  -----         \n",
      " 0   budget                45346 non-null  int64         \n",
      " 1   id                    45346 non-null  int64         \n",
      " 2   original_language     45335 non-null  object        \n",
      " 3   overview              44405 non-null  object        \n",
      " 4   popularity            45346 non-null  object        \n",
      " 5   release_date          45346 non-null  datetime64[ns]\n",
      " 6   revenue               45346 non-null  float64       \n",
      " 7   runtime               45100 non-null  float64       \n",
      " 8   status                45266 non-null  object        \n",
      " 9   tagline               20387 non-null  object        \n",
      " 10  title                 45346 non-null  object        \n",
      " 11  vote_average          45346 non-null  float64       \n",
      " 12  vote_count            45346 non-null  float64       \n",
      " 13  name                  4485 non-null   object        \n",
      " 14  genres                45346 non-null  object        \n",
      " 15  production_companies  45346 non-null  object        \n",
      " 16  production_countries  45346 non-null  object        \n",
      " 17  spoken_languages      45346 non-null  object        \n",
      " 18  return                45346 non-null  float64       \n",
      " 19  release_year          45346 non-null  int32         \n",
      "dtypes: datetime64[ns](1), float64(5), int32(1), int64(2), object(11)\n",
      "memory usage: 7.1+ MB\n"
     ]
    }
   ],
   "source": [
    "movies_data.info()"
   ]
  },
  {
   "cell_type": "markdown",
   "metadata": {},
   "source": [
    "Ahora exporto el dataframe movies_data a un csv para usarlo en el otro ETL para poder unirlos."
   ]
  },
  {
   "cell_type": "code",
   "execution_count": 182,
   "metadata": {},
   "outputs": [],
   "source": [
    "# Exportar el DataFrame a un archivo CSV\n",
    "movies_data.to_csv('../datasets/movies_dataset_final.csv', index=False)  # index=False evita que se exporte el índice"
   ]
  }
 ],
 "metadata": {
  "kernelspec": {
   "display_name": "Python 3",
   "language": "python",
   "name": "python3"
  },
  "language_info": {
   "codemirror_mode": {
    "name": "ipython",
    "version": 3
   },
   "file_extension": ".py",
   "mimetype": "text/x-python",
   "name": "python",
   "nbconvert_exporter": "python",
   "pygments_lexer": "ipython3",
   "version": "3.12.6"
  }
 },
 "nbformat": 4,
 "nbformat_minor": 2
}
